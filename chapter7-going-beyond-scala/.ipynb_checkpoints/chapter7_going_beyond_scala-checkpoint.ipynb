{
 "cells": [
  {
   "cell_type": "markdown",
   "metadata": {},
   "source": [
    "# Chapter 7: Going Beyond Scala - Pipe\n",
    "\n",
    "In order to run any kind of programming language, Spark offers `pipe` functionality. Here we see some exaples executing bash and python scripts in a Scala Spark Notebook."
   ]
  },
  {
   "cell_type": "code",
   "execution_count": 7,
   "metadata": {},
   "outputs": [
    {
     "data": {
      "text/plain": [
       "data = List(hi, hello, how, are, you)\n",
       "dataRDD = ParallelCollectionRDD[6] at makeRDD at <console>:30\n"
      ]
     },
     "metadata": {},
     "output_type": "display_data"
    },
    {
     "data": {
      "text/plain": [
       "ParallelCollectionRDD[6] at makeRDD at <console>:30"
      ]
     },
     "execution_count": 7,
     "metadata": {},
     "output_type": "execute_result"
    }
   ],
   "source": [
    "val data = List(\"hi\",\"hello\",\"how\",\"are\",\"you\")\n",
    "val dataRDD = sc.makeRDD(data) //sc is SparkContext"
   ]
  },
  {
   "cell_type": "code",
   "execution_count": 8,
   "metadata": {},
   "outputs": [
    {
     "data": {
      "text/plain": [
       "scriptPath = ../data/echo.sh\n",
       "pipeRDD = PipedRDD[7] at pipe at <console>:34\n"
      ]
     },
     "metadata": {},
     "output_type": "display_data"
    },
    {
     "data": {
      "text/plain": [
       "[Running shell script, Running shell script, hi, Running shell script, Running shell script, hello, Running shell script, how, Running shell script, Running shell script, are, Running shell script, you]"
      ]
     },
     "execution_count": 8,
     "metadata": {},
     "output_type": "execute_result"
    }
   ],
   "source": [
    "val scriptPath = \"../data/echo.sh\"\n",
    "val pipeRDD = dataRDD.pipe(scriptPath)\n",
    "pipeRDD.collect()"
   ]
  },
  {
   "cell_type": "code",
   "execution_count": 9,
   "metadata": {
    "scrolled": true
   },
   "outputs": [
    {
     "data": {
      "text/plain": [
       "scriptPath = ../data/print.py\n",
       "pipeRDD = PipedRDD[8] at pipe at <console>:34\n"
      ]
     },
     "metadata": {},
     "output_type": "display_data"
    },
    {
     "data": {
      "text/plain": [
       "[hello hi, , hello hello, , hello how, , hello are, , hello you, ]"
      ]
     },
     "execution_count": 9,
     "metadata": {},
     "output_type": "execute_result"
    }
   ],
   "source": [
    "val scriptPath = \"../data/print.py\"\n",
    "val pipeRDD = dataRDD.pipe(scriptPath)\n",
    "pipeRDD.collect()"
   ]
  }
 ],
 "metadata": {
  "kernelspec": {
   "display_name": "Apache Toree - Scala",
   "language": "scala",
   "name": "apache_toree_scala"
  },
  "language_info": {
   "codemirror_mode": "text/x-scala",
   "file_extension": ".scala",
   "mimetype": "text/x-scala",
   "name": "scala",
   "pygments_lexer": "scala",
   "version": "2.11.8"
  }
 },
 "nbformat": 4,
 "nbformat_minor": 2
}
