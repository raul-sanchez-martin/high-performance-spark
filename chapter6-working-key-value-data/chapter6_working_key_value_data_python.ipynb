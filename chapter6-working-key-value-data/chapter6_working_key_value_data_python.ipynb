{
 "cells": [
  {
   "cell_type": "markdown",
   "metadata": {},
   "source": [
    "# Chapter 6: Working with Key/Value Data"
   ]
  },
  {
   "cell_type": "code",
   "execution_count": 23,
   "metadata": {},
   "outputs": [],
   "source": [
    "from pyspark.sql import SparkSession\n",
    "import pyspark.sql.functions as F\n",
    "import pyspark.sql.types as T\n",
    "from pyspark.sql import Row\n",
    "import numpy as np"
   ]
  },
  {
   "cell_type": "code",
   "execution_count": 24,
   "metadata": {},
   "outputs": [],
   "source": [
    "spark = SparkSession.builder.appName(\"key-value-data\")\\\n",
    "    .master(\"local[*]\").getOrCreate()"
   ]
  },
  {
   "cell_type": "code",
   "execution_count": 25,
   "metadata": {},
   "outputs": [],
   "source": [
    "sc = spark.sparkContext"
   ]
  },
  {
   "cell_type": "markdown",
   "metadata": {},
   "source": [
    "## The Goldilocks Example"
   ]
  },
  {
   "cell_type": "code",
   "execution_count": 26,
   "metadata": {},
   "outputs": [],
   "source": [
    "list_data = [(15.0, 0.25, 2467.0, 0.0), \n",
    "            (2.0, 1000.0, 35.4, 0.0),\n",
    "            (10.0, 2.0, 50.0, 0.0),\n",
    "            (3.0, 8.5, 0.2, 98.0)]\n",
    "\n",
    "rdd = sc.parallelize(list_data)\\\n",
    ".map(lambda x: Row(Happiness=x[0], Niceness=x[1], Softness=x[2], Sweetness=x[3]))\n",
    "\n",
    "df = spark.createDataFrame(rdd)"
   ]
  },
  {
   "cell_type": "code",
   "execution_count": 27,
   "metadata": {},
   "outputs": [
    {
     "name": "stdout",
     "output_type": "stream",
     "text": [
      "+---------+--------+--------+---------+\n",
      "|Happiness|Niceness|Softness|Sweetness|\n",
      "+---------+--------+--------+---------+\n",
      "|     15.0|    0.25|  2467.0|      0.0|\n",
      "|      2.0|  1000.0|    35.4|      0.0|\n",
      "|     10.0|     2.0|    50.0|      0.0|\n",
      "|      3.0|     8.5|     0.2|     98.0|\n",
      "+---------+--------+--------+---------+\n",
      "\n"
     ]
    }
   ],
   "source": [
    "df.show()"
   ]
  },
  {
   "cell_type": "markdown",
   "metadata": {},
   "source": [
    "## Goldilocks Version 0: Iterative Solution"
   ]
  },
  {
   "cell_type": "code",
   "execution_count": 28,
   "metadata": {},
   "outputs": [],
   "source": [
    "ranks = [2, 4]"
   ]
  },
  {
   "cell_type": "code",
   "execution_count": 29,
   "metadata": {},
   "outputs": [],
   "source": [
    "def get_solution_v0(df, ranks):\n",
    "    \n",
    "    result = {}\n",
    "    \n",
    "    for idx in range(0, len(df.columns)):\n",
    "        \n",
    "        col_rdd = df.rdd.map(lambda row: row[idx])\n",
    "        sorted_rdd = col_rdd.sortBy(lambda x: x).zipWithIndex()\n",
    "        ranks_only = sorted_rdd.filter(lambda x: x[1]+1 in ranks)\\\n",
    "                        .map(lambda x: x[0])\n",
    "        \n",
    "        result[idx+1] = list(ranks_only.collect())\n",
    "    \n",
    "    return result"
   ]
  },
  {
   "cell_type": "code",
   "execution_count": 30,
   "metadata": {},
   "outputs": [],
   "source": [
    "solution_v0 = get_solution_v0(df, ranks)"
   ]
  },
  {
   "cell_type": "code",
   "execution_count": 31,
   "metadata": {},
   "outputs": [
    {
     "data": {
      "text/plain": [
       "{1: [3.0, 15.0], 2: [2.0, 1000.0], 3: [35.4, 2467.0], 4: [0.0, 98.0]}"
      ]
     },
     "execution_count": 31,
     "metadata": {},
     "output_type": "execute_result"
    }
   ],
   "source": [
    "solution_v0"
   ]
  },
  {
   "cell_type": "markdown",
   "metadata": {},
   "source": [
    "## Goldilocks Version 1: GroupByKey Solution"
   ]
  },
  {
   "cell_type": "code",
   "execution_count": 32,
   "metadata": {},
   "outputs": [],
   "source": [
    "def get_solution_v1(df, ranks):\n",
    "    \n",
    "    len_columns = len(df.columns)\n",
    "    \n",
    "    result = df.rdd.flatMap(lambda x: [(idx+1, x[idx]) for idx in range(0, len_columns)])\\\n",
    "        .groupByKey().map(lambda x: (x[0], \n",
    "                                     [val for idx, val in enumerate(sorted(list(x[1]))) \n",
    "                                      if idx+1 in ranks])).collectAsMap()\n",
    "    \n",
    "    return result"
   ]
  },
  {
   "cell_type": "code",
   "execution_count": 33,
   "metadata": {},
   "outputs": [],
   "source": [
    "solution_v1 = get_solution_v1(df, ranks)"
   ]
  },
  {
   "cell_type": "code",
   "execution_count": 34,
   "metadata": {},
   "outputs": [
    {
     "data": {
      "text/plain": [
       "{1: [3.0, 15.0], 2: [2.0, 1000.0], 3: [35.4, 2467.0], 4: [0.0, 98.0]}"
      ]
     },
     "execution_count": 34,
     "metadata": {},
     "output_type": "execute_result"
    }
   ],
   "source": [
    "solution_v1"
   ]
  },
  {
   "cell_type": "markdown",
   "metadata": {},
   "source": [
    "## Goldilocks Version 2: Secondary Sort"
   ]
  },
  {
   "cell_type": "code",
   "execution_count": 35,
   "metadata": {},
   "outputs": [],
   "source": [
    "def get_solution_v2(df, ranks):\n",
    "    \n",
    "    \n",
    "    len_columns = len(df.columns)\n",
    "    \n",
    "    def filter_for_target_ranks(x_iter):\n",
    "\n",
    "        for idx, val in enumerate(x_iter):\n",
    "\n",
    "            if idx+1 in ranks:\n",
    "\n",
    "                yield val\n",
    "    \n",
    "    pair_rdd = df.rdd\\\n",
    "        .flatMap(lambda x: [(idx, x[idx]) for idx in range(0, len_columns)])\\\n",
    "        .map(lambda x: (x, 1))\n",
    "    \n",
    "    num_partitions = len(df.columns)\n",
    "    \n",
    "    sorted_rdd = pair_rdd.repartitionAndSortWithinPartitions(num_partitions, \n",
    "                                                             lambda x: x[0]%num_partitions)\n",
    "    \n",
    "    filter_for_target = sorted_rdd\\\n",
    "        .mapPartitions(lambda x: filter_for_target_ranks(x))\\\n",
    "        .map(lambda x: x[0]).collect()\n",
    "    \n",
    "    results = {}\n",
    "    \n",
    "    for col, val in filter_for_target:\n",
    "        \n",
    "        if results.get(col) is None:\n",
    "            results[col] = [val]\n",
    "        else:\n",
    "            results[col] = results[col] + [val]\n",
    "    \n",
    "    return results"
   ]
  },
  {
   "cell_type": "code",
   "execution_count": 36,
   "metadata": {},
   "outputs": [],
   "source": [
    "solution_v2 = get_solution_v2(df, ranks)"
   ]
  },
  {
   "cell_type": "code",
   "execution_count": 37,
   "metadata": {},
   "outputs": [
    {
     "data": {
      "text/plain": [
       "{0: [3.0, 15.0], 1: [2.0, 1000.0], 2: [35.4, 2467.0], 3: [0.0, 98.0]}"
      ]
     },
     "execution_count": 37,
     "metadata": {},
     "output_type": "execute_result"
    }
   ],
   "source": [
    "solution_v2"
   ]
  },
  {
   "cell_type": "markdown",
   "metadata": {},
   "source": [
    "## Goldilocks Version 3: Sort on Cell Vales"
   ]
  },
  {
   "cell_type": "code",
   "execution_count": 38,
   "metadata": {},
   "outputs": [],
   "source": [
    "def get_solution_v3(df, ranks):\n",
    "    \n",
    "    len_columns = len(df.columns)\n",
    "    \n",
    "    def get_columns_fre_partition(idx_part, x_iter):\n",
    "    \n",
    "        columns_freq = [0, 0, 0, 0]\n",
    "\n",
    "        for val, idx in x_iter:\n",
    "            columns_freq[idx] += 1\n",
    "\n",
    "        yield (idx_part, columns_freq)\n",
    "    \n",
    "    sorted_column_pairs = df.rdd\\\n",
    "        .flatMap(lambda x: [(x[idx], idx) for idx in range(0, len_columns)])\\\n",
    "        .sortByKey()\n",
    "    \n",
    "    \n",
    "    columns_fre_partition = sorted_column_pairs\\\n",
    "        .mapPartitionsWithIndex(get_columns_fre_partition)\n",
    "    \n",
    "    \n",
    "    ranks_locations = {}\n",
    "\n",
    "    running_totals = [0,0,0,0]\n",
    "\n",
    "    ranks = [2, 4]\n",
    "\n",
    "    for partition, target_ranks in list(columns_fre_partition.collect()):\n",
    "\n",
    "        curr_result = []\n",
    "        old_running_totals = running_totals\n",
    "\n",
    "        running_totals = list(np.array(running_totals) + \n",
    "                              np.array(target_ranks))\n",
    "\n",
    "        for idx, (val_old, val_new) in enumerate(zip(old_running_totals, \n",
    "                                                     running_totals)):\n",
    "            for jdx, val in enumerate(range(val_old+1, val_new+1)):\n",
    "                if val in ranks:\n",
    "                    curr_result.append((idx, jdx+1))\n",
    "\n",
    "        ranks_locations[partition] = curr_result\n",
    "        \n",
    "        \n",
    "    def get_target_ranks_values(idx, x_iter):\n",
    "    \n",
    "        x_list = list(x_iter)\n",
    "\n",
    "        ranks_here = ranks_locations.get(idx)\n",
    "\n",
    "        if len(ranks_here) > 0:\n",
    "\n",
    "            for col, j_order in ranks_here:\n",
    "\n",
    "                values = [val for val, col_idx in x_list if col_idx == col]\n",
    "\n",
    "                yield (col, values[j_order-1])\n",
    "                \n",
    "    final_results = sorted_column_pairs.mapPartitionsWithIndex(get_target_ranks_values)\\\n",
    "        .groupByKey().map(lambda x: (x[0], list(x[1]))).collectAsMap()\n",
    "    \n",
    "    return final_results"
   ]
  },
  {
   "cell_type": "code",
   "execution_count": 39,
   "metadata": {},
   "outputs": [],
   "source": [
    "solution_v3 = get_solution_v3(df, ranks)"
   ]
  },
  {
   "cell_type": "code",
   "execution_count": 40,
   "metadata": {},
   "outputs": [
    {
     "data": {
      "text/plain": [
       "{0: [3.0, 15.0], 1: [2.0, 1000.0], 2: [35.4, 2467.0], 3: [0.0, 98.0]}"
      ]
     },
     "execution_count": 40,
     "metadata": {},
     "output_type": "execute_result"
    }
   ],
   "source": [
    "solution_v3"
   ]
  },
  {
   "cell_type": "code",
   "execution_count": null,
   "metadata": {},
   "outputs": [],
   "source": []
  },
  {
   "cell_type": "code",
   "execution_count": null,
   "metadata": {},
   "outputs": [],
   "source": []
  },
  {
   "cell_type": "code",
   "execution_count": null,
   "metadata": {},
   "outputs": [],
   "source": []
  },
  {
   "cell_type": "code",
   "execution_count": null,
   "metadata": {},
   "outputs": [],
   "source": []
  },
  {
   "cell_type": "code",
   "execution_count": null,
   "metadata": {},
   "outputs": [],
   "source": []
  }
 ],
 "metadata": {
  "kernelspec": {
   "display_name": "Python 3",
   "language": "python",
   "name": "python3"
  },
  "language_info": {
   "codemirror_mode": {
    "name": "ipython",
    "version": 3
   },
   "file_extension": ".py",
   "mimetype": "text/x-python",
   "name": "python",
   "nbconvert_exporter": "python",
   "pygments_lexer": "ipython3",
   "version": "3.6.7"
  }
 },
 "nbformat": 4,
 "nbformat_minor": 2
}
