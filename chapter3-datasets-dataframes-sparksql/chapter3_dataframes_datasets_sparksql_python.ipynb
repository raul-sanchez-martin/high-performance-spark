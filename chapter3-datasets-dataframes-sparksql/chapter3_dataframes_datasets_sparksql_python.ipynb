{
 "cells": [
  {
   "cell_type": "markdown",
   "metadata": {},
   "source": [
    "# Chapter 3: DataFrames, Datasets, and Spark SQL\n",
    "\n",
    "In this notebook, we will explore the DataFrames and Datasets concepts from Spark, as well as other aspects of the SQL API."
   ]
  },
  {
   "cell_type": "code",
   "execution_count": 1,
   "metadata": {},
   "outputs": [],
   "source": [
    "from pyspark.sql import SparkSession\n",
    "spark = SparkSession.builder.appName(\"Spark SQL\").master(\"local[*]\").getOrCreate()\n",
    "sc = spark.sparkContext"
   ]
  },
  {
   "cell_type": "markdown",
   "metadata": {},
   "source": [
    "## Basic of Schemas: Creating DataFrames and Datasets\n",
    "\n",
    "In this section, we will explore how to define an Schema, and how to use it to create DataFames and Datasets"
   ]
  },
  {
   "cell_type": "markdown",
   "metadata": {},
   "source": [
    "### Creating a DataFrame Specifying the Schema"
   ]
  },
  {
   "cell_type": "code",
   "execution_count": 2,
   "metadata": {},
   "outputs": [],
   "source": [
    "from pyspark.sql.types import StructType, StructField, IntegerType, StringType\n",
    "from pyspark.sql import Row\n",
    "import pyspark.sql.functions as F"
   ]
  },
  {
   "cell_type": "code",
   "execution_count": 3,
   "metadata": {},
   "outputs": [],
   "source": [
    "people_schema = StructType([StructField(\"id\", IntegerType(), True),\n",
    "                            StructField(\"name\", StringType(), True),\n",
    "                            StructField(\"age\", IntegerType(), True)])"
   ]
  },
  {
   "cell_type": "code",
   "execution_count": 4,
   "metadata": {},
   "outputs": [],
   "source": [
    "people_data = [(1,\"John\", 23), (2,\"Maria\", 23), (3,\"Isabella\", 25),\n",
    "               (4,\"Abe\", 25), (5,\"Connor\", 47), (6,\"Daniel\", 19)]"
   ]
  },
  {
   "cell_type": "code",
   "execution_count": 5,
   "metadata": {},
   "outputs": [],
   "source": [
    "people_df = spark.createDataFrame(people_data, people_schema)"
   ]
  },
  {
   "cell_type": "code",
   "execution_count": 6,
   "metadata": {},
   "outputs": [
    {
     "name": "stdout",
     "output_type": "stream",
     "text": [
      "+---+--------+---+\n",
      "| id|    name|age|\n",
      "+---+--------+---+\n",
      "|  1|    John| 23|\n",
      "|  2|   Maria| 23|\n",
      "|  3|Isabella| 25|\n",
      "|  4|     Abe| 25|\n",
      "|  5|  Connor| 47|\n",
      "|  6|  Daniel| 19|\n",
      "+---+--------+---+\n",
      "\n"
     ]
    }
   ],
   "source": [
    "people_df.show()"
   ]
  },
  {
   "cell_type": "markdown",
   "metadata": {},
   "source": [
    "### Creating a DataFrame without Specifying the Schema"
   ]
  },
  {
   "cell_type": "code",
   "execution_count": 7,
   "metadata": {},
   "outputs": [],
   "source": [
    "people_df_no_schema = spark.createDataFrame(people_data)"
   ]
  },
  {
   "cell_type": "code",
   "execution_count": 8,
   "metadata": {},
   "outputs": [
    {
     "name": "stdout",
     "output_type": "stream",
     "text": [
      "+---+--------+---+\n",
      "| _1|      _2| _3|\n",
      "+---+--------+---+\n",
      "|  1|    John| 23|\n",
      "|  2|   Maria| 23|\n",
      "|  3|Isabella| 25|\n",
      "|  4|     Abe| 25|\n",
      "|  5|  Connor| 47|\n",
      "|  6|  Daniel| 19|\n",
      "+---+--------+---+\n",
      "\n"
     ]
    }
   ],
   "source": [
    "people_df_no_schema.show()"
   ]
  },
  {
   "cell_type": "markdown",
   "metadata": {},
   "source": [
    "## DataFrame API\n",
    "\n",
    "In this section, we will explore the DataFrame API.\n",
    "\n",
    "### Transformations\n",
    "\n",
    "#### Simple Transformations\n",
    "\n",
    "We can perform a lot of simple transformations on Dataframes like `filter()`, together with other functionalities like `lit()`"
   ]
  },
  {
   "cell_type": "code",
   "execution_count": 9,
   "metadata": {},
   "outputs": [
    {
     "name": "stdout",
     "output_type": "stream",
     "text": [
      "+---+--------+---+\n",
      "| id|    name|age|\n",
      "+---+--------+---+\n",
      "|  3|Isabella| 25|\n",
      "|  4|     Abe| 25|\n",
      "|  5|  Connor| 47|\n",
      "+---+--------+---+\n",
      "\n"
     ]
    }
   ],
   "source": [
    "people_df.filter(F.col(\"age\") > 24).show()"
   ]
  },
  {
   "cell_type": "code",
   "execution_count": 10,
   "metadata": {},
   "outputs": [
    {
     "name": "stdout",
     "output_type": "stream",
     "text": [
      "+---+------+---+\n",
      "| id|  name|age|\n",
      "+---+------+---+\n",
      "|  1|  John| 23|\n",
      "|  2| Maria| 23|\n",
      "|  6|Daniel| 19|\n",
      "+---+------+---+\n",
      "\n"
     ]
    }
   ],
   "source": [
    "people_df.filter(F.lit(24) >= F.col(\"age\")).show()"
   ]
  },
  {
   "cell_type": "markdown",
   "metadata": {},
   "source": [
    "Another interesting function is `explode`, which is useful to decompose columns made of lists or map/dicitonaries."
   ]
  },
  {
   "cell_type": "code",
   "execution_count": 11,
   "metadata": {},
   "outputs": [
    {
     "name": "stdout",
     "output_type": "stream",
     "text": [
      "+---+---------+--------+\n",
      "|  a|  intlist|mapfield|\n",
      "+---+---------+--------+\n",
      "|  1|[1, 2, 3]|[a -> b]|\n",
      "+---+---------+--------+\n",
      "\n"
     ]
    }
   ],
   "source": [
    "eDF = spark.createDataFrame([Row(a=1, intlist=[1,2,3], mapfield={\"a\": \"b\"})])\n",
    "eDF.show()"
   ]
  },
  {
   "cell_type": "code",
   "execution_count": 12,
   "metadata": {},
   "outputs": [
    {
     "name": "stdout",
     "output_type": "stream",
     "text": [
      "+---+-----+\n",
      "|  a|anInt|\n",
      "+---+-----+\n",
      "|  1|    1|\n",
      "|  1|    2|\n",
      "|  1|    3|\n",
      "+---+-----+\n",
      "\n"
     ]
    }
   ],
   "source": [
    "eDF.select(\"a\", F.explode(eDF.intlist).alias(\"anInt\")).show()"
   ]
  },
  {
   "cell_type": "code",
   "execution_count": 13,
   "metadata": {},
   "outputs": [
    {
     "name": "stdout",
     "output_type": "stream",
     "text": [
      "+---+---+-----+\n",
      "|  a|key|value|\n",
      "+---+---+-----+\n",
      "|  1|  a|    b|\n",
      "+---+---+-----+\n",
      "\n"
     ]
    }
   ],
   "source": [
    "eDF.select(\"a\", F.explode(eDF.mapfield).alias(\"key\", \"value\")).show()"
   ]
  },
  {
   "cell_type": "markdown",
   "metadata": {},
   "source": [
    "Another interesting option is to perform \"if/else\" conditons directly on a DataFarme through the following syntaxis:"
   ]
  },
  {
   "cell_type": "code",
   "execution_count": 14,
   "metadata": {},
   "outputs": [],
   "source": [
    "from pyspark.sql.functions import when"
   ]
  },
  {
   "cell_type": "code",
   "execution_count": 15,
   "metadata": {},
   "outputs": [],
   "source": [
    "people_df_tag = people_df.select(\"id\", \"name\", \"age\",(when(F.col(\"age\") > 45, 2).when(F.col(\"age\") <= 20, 0)\\\n",
    "                                                      .otherwise(1)).alias(\"encodedAge\"))"
   ]
  },
  {
   "cell_type": "code",
   "execution_count": 16,
   "metadata": {},
   "outputs": [
    {
     "name": "stdout",
     "output_type": "stream",
     "text": [
      "+---+--------+---+----------+\n",
      "| id|    name|age|encodedAge|\n",
      "+---+--------+---+----------+\n",
      "|  1|    John| 23|         1|\n",
      "|  2|   Maria| 23|         1|\n",
      "|  3|Isabella| 25|         1|\n",
      "|  4|     Abe| 25|         1|\n",
      "|  5|  Connor| 47|         2|\n",
      "|  6|  Daniel| 19|         0|\n",
      "+---+--------+---+----------+\n",
      "\n"
     ]
    }
   ],
   "source": [
    "people_df_tag.show()"
   ]
  },
  {
   "cell_type": "markdown",
   "metadata": {},
   "source": [
    "Other important set of functionalities are aggregations, which used together the `groupBy` command and one aggretation function: `aproxCountDistinct`, `avg`, `count`, `countDistinct`, `first`, `last`, `stddev`, `stddev_pop`, `sum`, `sumDistinct`."
   ]
  },
  {
   "cell_type": "code",
   "execution_count": 17,
   "metadata": {
    "scrolled": true
   },
   "outputs": [
    {
     "name": "stdout",
     "output_type": "stream",
     "text": [
      "+----------+--------+\n",
      "|encodedAge|avg(age)|\n",
      "+----------+--------+\n",
      "|         1|    24.0|\n",
      "|         2|    47.0|\n",
      "|         0|    19.0|\n",
      "+----------+--------+\n",
      "\n"
     ]
    }
   ],
   "source": [
    "people_df_tag.groupBy(F.col(\"encodedAge\")).agg(F.avg(F.col(\"age\"))).show()"
   ]
  },
  {
   "cell_type": "code",
   "execution_count": 18,
   "metadata": {},
   "outputs": [
    {
     "name": "stdout",
     "output_type": "stream",
     "text": [
      "+----------+----------+\n",
      "|encodedAge|count(age)|\n",
      "+----------+----------+\n",
      "|         1|         4|\n",
      "|         2|         1|\n",
      "|         0|         1|\n",
      "+----------+----------+\n",
      "\n"
     ]
    }
   ],
   "source": [
    "people_df_tag.groupBy(F.col(\"encodedAge\")).agg(F.count(F.col(\"age\"))).show()"
   ]
  },
  {
   "cell_type": "code",
   "execution_count": 19,
   "metadata": {},
   "outputs": [
    {
     "name": "stdout",
     "output_type": "stream",
     "text": [
      "+----------+-------------------+\n",
      "|encodedAge|count(DISTINCT age)|\n",
      "+----------+-------------------+\n",
      "|         1|                  2|\n",
      "|         2|                  1|\n",
      "|         0|                  1|\n",
      "+----------+-------------------+\n",
      "\n"
     ]
    }
   ],
   "source": [
    "people_df_tag.groupBy(F.col(\"encodedAge\")).agg(F.countDistinct(F.col(\"age\"))).show()"
   ]
  },
  {
   "cell_type": "markdown",
   "metadata": {},
   "source": [
    "`Window` functions allow to calculate individual values for each register in a column based on some aggregate condition. Here we are going to calculate, for each person of the table `people_df_tag`, de difference between their age and the average of the age of its age group (indicated by the field `encodedAge`)."
   ]
  },
  {
   "cell_type": "code",
   "execution_count": 20,
   "metadata": {},
   "outputs": [],
   "source": [
    "from pyspark.sql.window import Window"
   ]
  },
  {
   "cell_type": "code",
   "execution_count": 21,
   "metadata": {},
   "outputs": [],
   "source": [
    "window_spec = Window.partitionBy(people_df_tag[\"encodedAge\"])"
   ]
  },
  {
   "cell_type": "code",
   "execution_count": 22,
   "metadata": {},
   "outputs": [],
   "source": [
    "col_avg_age_dif = F.avg(people_df_tag[\"age\"]).over(window_spec) - people_df_tag[\"age\"]"
   ]
  },
  {
   "cell_type": "code",
   "execution_count": 23,
   "metadata": {},
   "outputs": [
    {
     "name": "stdout",
     "output_type": "stream",
     "text": [
      "+---+--------+---+----------+----------------+\n",
      "| id|    name|age|encodedAge|age_dif_in_group|\n",
      "+---+--------+---+----------+----------------+\n",
      "|  1|    John| 23|         1|             1.0|\n",
      "|  2|   Maria| 23|         1|             1.0|\n",
      "|  3|Isabella| 25|         1|            -1.0|\n",
      "|  4|     Abe| 25|         1|            -1.0|\n",
      "|  5|  Connor| 47|         2|             0.0|\n",
      "|  6|  Daniel| 19|         0|             0.0|\n",
      "+---+--------+---+----------+----------------+\n",
      "\n"
     ]
    }
   ],
   "source": [
    "people_df_tag.select(\"id\", \"name\", \"age\", \"encodedAge\", col_avg_age_dif.alias(\"age_dif_in_group\")).show()"
   ]
  },
  {
   "cell_type": "markdown",
   "metadata": {},
   "source": [
    "Finally, another important functionality is orderBy()"
   ]
  },
  {
   "cell_type": "code",
   "execution_count": 24,
   "metadata": {},
   "outputs": [
    {
     "name": "stdout",
     "output_type": "stream",
     "text": [
      "+---+--------+---+----------+\n",
      "| id|    name|age|encodedAge|\n",
      "+---+--------+---+----------+\n",
      "|  6|  Daniel| 19|         0|\n",
      "|  2|   Maria| 23|         1|\n",
      "|  1|    John| 23|         1|\n",
      "|  3|Isabella| 25|         1|\n",
      "|  4|     Abe| 25|         1|\n",
      "|  5|  Connor| 47|         2|\n",
      "+---+--------+---+----------+\n",
      "\n"
     ]
    }
   ],
   "source": [
    "people_df_tag.orderBy(F.col(\"age\")).show()"
   ]
  },
  {
   "cell_type": "markdown",
   "metadata": {},
   "source": [
    "#### Multi-DataFrame Transformations: Set-Like operations\n",
    "\n",
    "Another important group of transformations are the \"set-like\" operations, that works over two different dataframes. We can highlight the following set-like operations: `unionAll`, `intersect`, `except`, `distinct`."
   ]
  },
  {
   "cell_type": "code",
   "execution_count": 25,
   "metadata": {},
   "outputs": [],
   "source": [
    "people_df_tag_2 = spark.createDataFrame([(5, \"Connor\", 47, 2), \n",
    "                                         (6, \"Daniel\", 19, 0)], [\"id\", \"name\", \"age\", \"encodedAge\"])"
   ]
  },
  {
   "cell_type": "markdown",
   "metadata": {},
   "source": [
    "`unioinAll()` --> to concatenate two dataframes"
   ]
  },
  {
   "cell_type": "code",
   "execution_count": 26,
   "metadata": {},
   "outputs": [],
   "source": [
    "people_df_tag_union = people_df_tag.unionAll(people_df_tag_2)"
   ]
  },
  {
   "cell_type": "code",
   "execution_count": 27,
   "metadata": {},
   "outputs": [
    {
     "name": "stdout",
     "output_type": "stream",
     "text": [
      "+---+--------+---+----------+\n",
      "| id|    name|age|encodedAge|\n",
      "+---+--------+---+----------+\n",
      "|  1|    John| 23|         1|\n",
      "|  2|   Maria| 23|         1|\n",
      "|  3|Isabella| 25|         1|\n",
      "|  4|     Abe| 25|         1|\n",
      "|  5|  Connor| 47|         2|\n",
      "|  6|  Daniel| 19|         0|\n",
      "|  5|  Connor| 47|         2|\n",
      "|  6|  Daniel| 19|         0|\n",
      "+---+--------+---+----------+\n",
      "\n"
     ]
    }
   ],
   "source": [
    "people_df_tag_union.show()"
   ]
  },
  {
   "cell_type": "markdown",
   "metadata": {},
   "source": [
    "`intersect()` --> to get the intersection between two DataFrames:"
   ]
  },
  {
   "cell_type": "code",
   "execution_count": 28,
   "metadata": {},
   "outputs": [
    {
     "name": "stdout",
     "output_type": "stream",
     "text": [
      "+---+------+---+----------+\n",
      "| id|  name|age|encodedAge|\n",
      "+---+------+---+----------+\n",
      "|  5|Connor| 47|         2|\n",
      "|  6|Daniel| 19|         0|\n",
      "+---+------+---+----------+\n",
      "\n"
     ]
    }
   ],
   "source": [
    "people_df_tag.intersect(people_df_tag_2).show()"
   ]
  },
  {
   "cell_type": "markdown",
   "metadata": {},
   "source": [
    "`subtract()` --> to remove from one DataFrame the elements from other DataFrame"
   ]
  },
  {
   "cell_type": "code",
   "execution_count": 29,
   "metadata": {},
   "outputs": [
    {
     "name": "stdout",
     "output_type": "stream",
     "text": [
      "+---+--------+---+----------+\n",
      "| id|    name|age|encodedAge|\n",
      "+---+--------+---+----------+\n",
      "|  1|    John| 23|         1|\n",
      "|  4|     Abe| 25|         1|\n",
      "|  2|   Maria| 23|         1|\n",
      "|  3|Isabella| 25|         1|\n",
      "+---+--------+---+----------+\n",
      "\n"
     ]
    }
   ],
   "source": [
    "people_df_tag.subtract(people_df_tag_2).show()"
   ]
  },
  {
   "cell_type": "markdown",
   "metadata": {},
   "source": [
    "`distict()` --> to get the distinct elements from one DataFrame"
   ]
  },
  {
   "cell_type": "code",
   "execution_count": 30,
   "metadata": {},
   "outputs": [
    {
     "name": "stdout",
     "output_type": "stream",
     "text": [
      "+---+--------+---+----------+\n",
      "| id|    name|age|encodedAge|\n",
      "+---+--------+---+----------+\n",
      "|  5|  Connor| 47|         2|\n",
      "|  1|    John| 23|         1|\n",
      "|  6|  Daniel| 19|         0|\n",
      "|  4|     Abe| 25|         1|\n",
      "|  2|   Maria| 23|         1|\n",
      "|  3|Isabella| 25|         1|\n",
      "+---+--------+---+----------+\n",
      "\n"
     ]
    }
   ],
   "source": [
    "people_df_tag_union.distinct().show()"
   ]
  },
  {
   "cell_type": "markdown",
   "metadata": {},
   "source": [
    "### Plain Old SQL Queries\n",
    "\n",
    "It is possible to perform SQL queries using the old plain format instead of the new SQL API. Here we can se one example of how to do it:"
   ]
  },
  {
   "cell_type": "code",
   "execution_count": 31,
   "metadata": {},
   "outputs": [],
   "source": [
    "people_df_tag.registerTempTable(\"people\")"
   ]
  },
  {
   "cell_type": "code",
   "execution_count": 32,
   "metadata": {},
   "outputs": [
    {
     "name": "stdout",
     "output_type": "stream",
     "text": [
      "+---+--------+---+----------+\n",
      "| id|    name|age|encodedAge|\n",
      "+---+--------+---+----------+\n",
      "|  1|    John| 23|         1|\n",
      "|  2|   Maria| 23|         1|\n",
      "|  3|Isabella| 25|         1|\n",
      "|  4|     Abe| 25|         1|\n",
      "|  5|  Connor| 47|         2|\n",
      "+---+--------+---+----------+\n",
      "\n"
     ]
    }
   ],
   "source": [
    "spark.sql(\"SELECT * FROM people WHERE age > 20\").show()"
   ]
  },
  {
   "cell_type": "markdown",
   "metadata": {},
   "source": [
    "## Data Loading and Saving Functions\n",
    "\n",
    "In this section, we will explore how to load and save data in three different formats:\n",
    "\n",
    "    * Parquet\n",
    "    * CSV\n",
    "    * Json"
   ]
  },
  {
   "cell_type": "markdown",
   "metadata": {},
   "source": [
    "### Parquet Format"
   ]
  },
  {
   "cell_type": "markdown",
   "metadata": {},
   "source": [
    "Loading data"
   ]
  },
  {
   "cell_type": "code",
   "execution_count": 33,
   "metadata": {},
   "outputs": [],
   "source": [
    "parquet_data = spark.read.parquet(\"../data/person.parquet\")"
   ]
  },
  {
   "cell_type": "code",
   "execution_count": 34,
   "metadata": {},
   "outputs": [
    {
     "name": "stdout",
     "output_type": "stream",
     "text": [
      "+----+---+\n",
      "|Name|Age|\n",
      "+----+---+\n",
      "|Raul| 29|\n",
      "|Javi| 34|\n",
      "+----+---+\n",
      "\n"
     ]
    }
   ],
   "source": [
    "parquet_data.show()"
   ]
  },
  {
   "cell_type": "markdown",
   "metadata": {},
   "source": [
    "Saving data"
   ]
  },
  {
   "cell_type": "code",
   "execution_count": 35,
   "metadata": {},
   "outputs": [],
   "source": [
    "parquet_data.write.mode(\"overwrite\").parquet(\"../data/person_write.parquet\")"
   ]
  },
  {
   "cell_type": "code",
   "execution_count": 36,
   "metadata": {},
   "outputs": [
    {
     "name": "stdout",
     "output_type": "stream",
     "text": [
      "+----+---+\n",
      "|Name|Age|\n",
      "+----+---+\n",
      "|Raul| 29|\n",
      "|Javi| 34|\n",
      "+----+---+\n",
      "\n"
     ]
    }
   ],
   "source": [
    "spark.read.parquet(\"../data/person_write.parquet\").show()"
   ]
  },
  {
   "cell_type": "markdown",
   "metadata": {},
   "source": [
    "### CSV Format"
   ]
  },
  {
   "cell_type": "markdown",
   "metadata": {},
   "source": [
    "Loading data"
   ]
  },
  {
   "cell_type": "code",
   "execution_count": 37,
   "metadata": {},
   "outputs": [],
   "source": [
    "csv_data = spark.read.option(\"header\", \"true\").option(\"inferschema\", \"true\").csv(\"../data/person.csv\")"
   ]
  },
  {
   "cell_type": "code",
   "execution_count": 38,
   "metadata": {},
   "outputs": [
    {
     "name": "stdout",
     "output_type": "stream",
     "text": [
      "+----+---+\n",
      "|Name|Age|\n",
      "+----+---+\n",
      "|Raul| 29|\n",
      "|Javi| 34|\n",
      "+----+---+\n",
      "\n"
     ]
    }
   ],
   "source": [
    "csv_data.show()"
   ]
  },
  {
   "cell_type": "code",
   "execution_count": 39,
   "metadata": {},
   "outputs": [],
   "source": [
    "csv_data_bis = spark.read.csv(\"../data/person.csv\", header=True, inferSchema=True)"
   ]
  },
  {
   "cell_type": "code",
   "execution_count": 40,
   "metadata": {},
   "outputs": [
    {
     "name": "stdout",
     "output_type": "stream",
     "text": [
      "+----+---+\n",
      "|Name|Age|\n",
      "+----+---+\n",
      "|Raul| 29|\n",
      "|Javi| 34|\n",
      "+----+---+\n",
      "\n"
     ]
    }
   ],
   "source": [
    "csv_data_bis.show()"
   ]
  },
  {
   "cell_type": "code",
   "execution_count": 41,
   "metadata": {},
   "outputs": [],
   "source": [
    "import pyspark.sql.types as T"
   ]
  },
  {
   "cell_type": "code",
   "execution_count": 42,
   "metadata": {},
   "outputs": [],
   "source": [
    "schema = T.StructType([T.StructField(\"Name\", T.StringType(), True),\n",
    "                       T.StructField(\"Age\", T.IntegerType(), True)])"
   ]
  },
  {
   "cell_type": "code",
   "execution_count": 43,
   "metadata": {},
   "outputs": [],
   "source": [
    "csv_data_schema = spark.read.csv(\"../data/person.csv\", header=True, schema=schema)"
   ]
  },
  {
   "cell_type": "code",
   "execution_count": 44,
   "metadata": {},
   "outputs": [
    {
     "name": "stdout",
     "output_type": "stream",
     "text": [
      "+----+---+\n",
      "|Name|Age|\n",
      "+----+---+\n",
      "|Raul| 29|\n",
      "|Javi| 34|\n",
      "+----+---+\n",
      "\n"
     ]
    }
   ],
   "source": [
    "csv_data_schema.show()"
   ]
  },
  {
   "cell_type": "markdown",
   "metadata": {},
   "source": [
    "Writing data"
   ]
  },
  {
   "cell_type": "code",
   "execution_count": 45,
   "metadata": {},
   "outputs": [],
   "source": [
    "csv_data.write.mode(\"overwrite\").csv(\"../data/person_write.csv\", header=True)"
   ]
  },
  {
   "cell_type": "code",
   "execution_count": 46,
   "metadata": {},
   "outputs": [
    {
     "name": "stdout",
     "output_type": "stream",
     "text": [
      "+----+---+\n",
      "|Name|Age|\n",
      "+----+---+\n",
      "|Raul| 29|\n",
      "|Javi| 34|\n",
      "+----+---+\n",
      "\n"
     ]
    }
   ],
   "source": [
    "spark.read.csv(\"../data/person_write.csv\", header=True, inferSchema=True).show()"
   ]
  },
  {
   "cell_type": "markdown",
   "metadata": {},
   "source": [
    "### JSON Format"
   ]
  },
  {
   "cell_type": "markdown",
   "metadata": {},
   "source": [
    "Loading data"
   ]
  },
  {
   "cell_type": "code",
   "execution_count": 47,
   "metadata": {},
   "outputs": [],
   "source": [
    "json_data = spark.read.json(\"../data/person.json\")"
   ]
  },
  {
   "cell_type": "code",
   "execution_count": 48,
   "metadata": {},
   "outputs": [
    {
     "name": "stdout",
     "output_type": "stream",
     "text": [
      "+---+----+\n",
      "|age|name|\n",
      "+---+----+\n",
      "| 29|Raul|\n",
      "| 33|Javi|\n",
      "+---+----+\n",
      "\n"
     ]
    }
   ],
   "source": [
    "json_data.show()"
   ]
  },
  {
   "cell_type": "markdown",
   "metadata": {},
   "source": [
    "Saving data"
   ]
  },
  {
   "cell_type": "code",
   "execution_count": 49,
   "metadata": {},
   "outputs": [],
   "source": [
    "json_data.write.mode(\"overwrite\").json(\"../data/person_write.json\")"
   ]
  },
  {
   "cell_type": "code",
   "execution_count": 50,
   "metadata": {},
   "outputs": [
    {
     "name": "stdout",
     "output_type": "stream",
     "text": [
      "+---+----+\n",
      "|age|name|\n",
      "+---+----+\n",
      "| 29|Raul|\n",
      "| 33|Javi|\n",
      "+---+----+\n",
      "\n"
     ]
    }
   ],
   "source": [
    "spark.read.json(\"../data/person_write.json\").show()"
   ]
  },
  {
   "cell_type": "markdown",
   "metadata": {},
   "source": [
    "## Extending with User-Defined Functions (UDFs)\n",
    "\n",
    "Using an UDFs, we are going to repeat the process where we obtained a new column with a categorical value for the age."
   ]
  },
  {
   "cell_type": "code",
   "execution_count": 51,
   "metadata": {},
   "outputs": [
    {
     "name": "stdout",
     "output_type": "stream",
     "text": [
      "+---+--------+---+\n",
      "| id|    name|age|\n",
      "+---+--------+---+\n",
      "|  1|    John| 23|\n",
      "|  2|   Maria| 23|\n",
      "|  3|Isabella| 25|\n",
      "|  4|     Abe| 25|\n",
      "|  5|  Connor| 47|\n",
      "|  6|  Daniel| 19|\n",
      "+---+--------+---+\n",
      "\n"
     ]
    }
   ],
   "source": [
    "people_df.show()"
   ]
  },
  {
   "cell_type": "code",
   "execution_count": 52,
   "metadata": {},
   "outputs": [],
   "source": [
    "def cat_age(age):\n",
    "    if age > 45:\n",
    "        return 2\n",
    "    elif age <= 20:\n",
    "        return 0\n",
    "    else:\n",
    "        return 1\n",
    "\n",
    "cat_age_udf = F.udf(cat_age)"
   ]
  },
  {
   "cell_type": "code",
   "execution_count": 53,
   "metadata": {},
   "outputs": [],
   "source": [
    "people_df_udf = people_df.withColumn(\"encodedAge\", cat_age_udf(\"Age\"))"
   ]
  },
  {
   "cell_type": "code",
   "execution_count": 54,
   "metadata": {},
   "outputs": [
    {
     "name": "stdout",
     "output_type": "stream",
     "text": [
      "+---+--------+---+----------+\n",
      "| id|    name|age|encodedAge|\n",
      "+---+--------+---+----------+\n",
      "|  1|    John| 23|         1|\n",
      "|  2|   Maria| 23|         1|\n",
      "|  3|Isabella| 25|         1|\n",
      "|  4|     Abe| 25|         1|\n",
      "|  5|  Connor| 47|         2|\n",
      "|  6|  Daniel| 19|         0|\n",
      "+---+--------+---+----------+\n",
      "\n"
     ]
    }
   ],
   "source": [
    "people_df_udf.show()"
   ]
  },
  {
   "cell_type": "code",
   "execution_count": null,
   "metadata": {},
   "outputs": [],
   "source": []
  }
 ],
 "metadata": {
  "kernelspec": {
   "display_name": "Python 3",
   "language": "python",
   "name": "python3"
  },
  "language_info": {
   "codemirror_mode": {
    "name": "ipython",
    "version": 3
   },
   "file_extension": ".py",
   "mimetype": "text/x-python",
   "name": "python",
   "nbconvert_exporter": "python",
   "pygments_lexer": "ipython3",
   "version": "3.6.5"
  }
 },
 "nbformat": 4,
 "nbformat_minor": 2
}
