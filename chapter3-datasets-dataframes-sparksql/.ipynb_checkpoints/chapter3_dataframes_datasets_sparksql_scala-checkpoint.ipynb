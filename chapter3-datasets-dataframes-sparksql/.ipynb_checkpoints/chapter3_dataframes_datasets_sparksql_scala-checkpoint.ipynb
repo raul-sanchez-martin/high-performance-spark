{
 "cells": [
  {
   "cell_type": "markdown",
   "metadata": {},
   "source": [
    "# Chapter 3: DataFrames, Datasets, and Spark SQL\n",
    "\n",
    "In this notebook, we will explore the DataFrames and Datasets concepts from Spark, as well as other aspects of the SQL API."
   ]
  },
  {
   "cell_type": "code",
   "execution_count": 1,
   "metadata": {},
   "outputs": [
    {
     "data": {
      "text/plain": [
       "import org.apache.spark.sql.{functions=>F}\n"
      ]
     },
     "metadata": {},
     "output_type": "display_data"
    }
   ],
   "source": [
    "import org.apache.spark.sql.{functions => F}\n",
    "import org.apache.spark.sql.Row"
   ]
  },
  {
   "cell_type": "markdown",
   "metadata": {},
   "source": [
    "## Basic of Schemas: Creating DataFrames and Datasets\n",
    "\n",
    "In this section, we will explore how to define an Schema, and how to use it to create DataFames and Datasets"
   ]
  },
  {
   "cell_type": "markdown",
   "metadata": {},
   "source": [
    "### Creating a DataFrame Specifying the Schema"
   ]
  },
  {
   "cell_type": "code",
   "execution_count": 2,
   "metadata": {},
   "outputs": [],
   "source": [
    "import org.apache.spark.sql.types.{StructType, StructField, IntegerType, StringType, ArrayType, MapType}\n",
    "import org.apache.spark.sql.Row"
   ]
  },
  {
   "cell_type": "code",
   "execution_count": 3,
   "metadata": {},
   "outputs": [
    {
     "data": {
      "text/plain": [
       "peopleSchema = StructType(StructField(id,IntegerType,true), StructField(name,StringType,true), StructField(age,IntegerType,true))\n"
      ]
     },
     "metadata": {},
     "output_type": "display_data"
    },
    {
     "data": {
      "text/plain": [
       "StructType(StructField(id,IntegerType,true), StructField(name,StringType,true), StructField(age,IntegerType,true))"
      ]
     },
     "execution_count": 3,
     "metadata": {},
     "output_type": "execute_result"
    }
   ],
   "source": [
    "val peopleSchema = new StructType(Array(StructField(\"id\", IntegerType, true),\n",
    "                                        StructField(\"name\", StringType, true),\n",
    "                                        StructField(\"age\", IntegerType, true)))"
   ]
  },
  {
   "cell_type": "code",
   "execution_count": 4,
   "metadata": {},
   "outputs": [
    {
     "data": {
      "text/plain": [
       "peopleData = MapPartitionsRDD[1] at map at <console>:36\n"
      ]
     },
     "metadata": {},
     "output_type": "display_data"
    },
    {
     "data": {
      "text/plain": [
       "MapPartitionsRDD[1] at map at <console>:36"
      ]
     },
     "execution_count": 4,
     "metadata": {},
     "output_type": "execute_result"
    }
   ],
   "source": [
    "val peopleData = sc.parallelize(Array((1,\"John\", 23), \n",
    "                                      (2,\"Maria\", 23), \n",
    "                                      (3,\"Isabella\", 25),\n",
    "                                      (4,\"Abe\", 25),\n",
    "                                      (5,\"Connor\", 47),\n",
    "                                      (6,\"Daniel\", 19))).map(x => Row.fromTuple(x))"
   ]
  },
  {
   "cell_type": "code",
   "execution_count": 5,
   "metadata": {},
   "outputs": [
    {
     "data": {
      "text/plain": [
       "peopleDf = [id: int, name: string ... 1 more field]\n"
      ]
     },
     "metadata": {},
     "output_type": "display_data"
    },
    {
     "data": {
      "text/plain": [
       "[id: int, name: string ... 1 more field]"
      ]
     },
     "execution_count": 5,
     "metadata": {},
     "output_type": "execute_result"
    }
   ],
   "source": [
    "val peopleDf = spark.createDataFrame(peopleData, peopleSchema)"
   ]
  },
  {
   "cell_type": "code",
   "execution_count": 6,
   "metadata": {},
   "outputs": [
    {
     "name": "stdout",
     "output_type": "stream",
     "text": [
      "+---+--------+---+\n",
      "| id|    name|age|\n",
      "+---+--------+---+\n",
      "|  1|    John| 23|\n",
      "|  2|   Maria| 23|\n",
      "|  3|Isabella| 25|\n",
      "|  4|     Abe| 25|\n",
      "|  5|  Connor| 47|\n",
      "|  6|  Daniel| 19|\n",
      "+---+--------+---+\n",
      "\n"
     ]
    }
   ],
   "source": [
    "peopleDf.show()"
   ]
  },
  {
   "cell_type": "markdown",
   "metadata": {},
   "source": [
    "### Creating a DataFrame without Specifying the Schema"
   ]
  },
  {
   "cell_type": "code",
   "execution_count": 7,
   "metadata": {},
   "outputs": [
    {
     "data": {
      "text/plain": [
       "peopleDataTuple = ParallelCollectionRDD[7] at parallelize at <console>:31\n"
      ]
     },
     "metadata": {},
     "output_type": "display_data"
    },
    {
     "data": {
      "text/plain": [
       "ParallelCollectionRDD[7] at parallelize at <console>:31"
      ]
     },
     "execution_count": 7,
     "metadata": {},
     "output_type": "execute_result"
    }
   ],
   "source": [
    "val peopleDataTuple = sc.parallelize(Array((1,\"John\", 23), \n",
    "                                           (2,\"Maria\", 23), \n",
    "                                           (3,\"Isabella\", 25),\n",
    "                                           (4,\"Abe\", 25),\n",
    "                                           (5,\"Connor\", 47),\n",
    "                                           (6,\"Daniel\", 19)))"
   ]
  },
  {
   "cell_type": "code",
   "execution_count": 8,
   "metadata": {},
   "outputs": [
    {
     "data": {
      "text/plain": [
       "peopleDfNoSchema = [_1: int, _2: string ... 1 more field]\n"
      ]
     },
     "metadata": {},
     "output_type": "display_data"
    },
    {
     "data": {
      "text/plain": [
       "[_1: int, _2: string ... 1 more field]"
      ]
     },
     "execution_count": 8,
     "metadata": {},
     "output_type": "execute_result"
    }
   ],
   "source": [
    "val peopleDfNoSchema = spark.createDataFrame(peopleDataTuple)"
   ]
  },
  {
   "cell_type": "code",
   "execution_count": 9,
   "metadata": {},
   "outputs": [
    {
     "name": "stdout",
     "output_type": "stream",
     "text": [
      "+---+--------+---+\n",
      "| _1|      _2| _3|\n",
      "+---+--------+---+\n",
      "|  1|    John| 23|\n",
      "|  2|   Maria| 23|\n",
      "|  3|Isabella| 25|\n",
      "|  4|     Abe| 25|\n",
      "|  5|  Connor| 47|\n",
      "|  6|  Daniel| 19|\n",
      "+---+--------+---+\n",
      "\n"
     ]
    }
   ],
   "source": [
    "peopleDfNoSchema.show()"
   ]
  },
  {
   "cell_type": "markdown",
   "metadata": {},
   "source": [
    "### Creating a Dataset / DataFrame from Case Clases"
   ]
  },
  {
   "cell_type": "code",
   "execution_count": 10,
   "metadata": {},
   "outputs": [
    {
     "data": {
      "text/plain": [
       "defined class Person\n"
      ]
     },
     "metadata": {},
     "output_type": "display_data"
    }
   ],
   "source": [
    "case class Person(id: Integer, Name: String, Age: Integer)"
   ]
  },
  {
   "cell_type": "code",
   "execution_count": 11,
   "metadata": {},
   "outputs": [
    {
     "data": {
      "text/plain": [
       "dataCaseClasses = ParallelCollectionRDD[12] at parallelize at <console>:33\n"
      ]
     },
     "metadata": {},
     "output_type": "display_data"
    },
    {
     "data": {
      "text/plain": [
       "ParallelCollectionRDD[12] at parallelize at <console>:33"
      ]
     },
     "execution_count": 11,
     "metadata": {},
     "output_type": "execute_result"
    }
   ],
   "source": [
    "val dataCaseClasses = sc.parallelize(Array(Person(1,\"John\", 23), Person(2,\"Maria\", 23),\n",
    "                                           Person(3,\"Isabella\", 25), Person(4,\"Abe\", 25),\n",
    "                                           Person(5,\"Connor\", 47), Person(6,\"Daniel\", 19)))"
   ]
  },
  {
   "cell_type": "code",
   "execution_count": 12,
   "metadata": {},
   "outputs": [
    {
     "data": {
      "text/plain": [
       "peopleDsCaseClasses = [id: int, Name: string ... 1 more field]\n"
      ]
     },
     "metadata": {},
     "output_type": "display_data"
    },
    {
     "data": {
      "text/plain": [
       "[id: int, Name: string ... 1 more field]"
      ]
     },
     "execution_count": 12,
     "metadata": {},
     "output_type": "execute_result"
    }
   ],
   "source": [
    "val peopleDsCaseClasses = spark.createDataset(dataCaseClasses)"
   ]
  },
  {
   "cell_type": "code",
   "execution_count": 13,
   "metadata": {},
   "outputs": [
    {
     "name": "stdout",
     "output_type": "stream",
     "text": [
      "+---+--------+---+\n",
      "| id|    Name|Age|\n",
      "+---+--------+---+\n",
      "|  1|    John| 23|\n",
      "|  2|   Maria| 23|\n",
      "|  3|Isabella| 25|\n",
      "|  4|     Abe| 25|\n",
      "|  5|  Connor| 47|\n",
      "|  6|  Daniel| 19|\n",
      "+---+--------+---+\n",
      "\n"
     ]
    }
   ],
   "source": [
    "peopleDsCaseClasses.show()"
   ]
  },
  {
   "cell_type": "code",
   "execution_count": 14,
   "metadata": {},
   "outputs": [
    {
     "data": {
      "text/plain": [
       "class $line34.$read$$iw$$iw$Person"
      ]
     },
     "execution_count": 14,
     "metadata": {},
     "output_type": "execute_result"
    }
   ],
   "source": [
    "peopleDsCaseClasses.rdd.take(1)(0).getClass"
   ]
  },
  {
   "cell_type": "code",
   "execution_count": 15,
   "metadata": {},
   "outputs": [
    {
     "data": {
      "text/plain": [
       "peopleDfCaseClasses = [id: int, Name: string ... 1 more field]\n"
      ]
     },
     "metadata": {},
     "output_type": "display_data"
    },
    {
     "data": {
      "text/plain": [
       "[id: int, Name: string ... 1 more field]"
      ]
     },
     "execution_count": 15,
     "metadata": {},
     "output_type": "execute_result"
    }
   ],
   "source": [
    "val peopleDfCaseClasses = spark.createDataFrame(dataCaseClasses)"
   ]
  },
  {
   "cell_type": "code",
   "execution_count": 16,
   "metadata": {},
   "outputs": [
    {
     "name": "stdout",
     "output_type": "stream",
     "text": [
      "+---+--------+---+\n",
      "| id|    Name|Age|\n",
      "+---+--------+---+\n",
      "|  1|    John| 23|\n",
      "|  2|   Maria| 23|\n",
      "|  3|Isabella| 25|\n",
      "|  4|     Abe| 25|\n",
      "|  5|  Connor| 47|\n",
      "|  6|  Daniel| 19|\n",
      "+---+--------+---+\n",
      "\n"
     ]
    }
   ],
   "source": [
    "peopleDfCaseClasses.show()"
   ]
  },
  {
   "cell_type": "markdown",
   "metadata": {},
   "source": [
    "## DataFrame API\n",
    "\n",
    "In this section, we will explore the DataFrame API.\n",
    "\n",
    "### Transformations\n",
    "\n",
    "#### Simple Transformations\n",
    "\n",
    "We can perform a lot of simple transformations on Dataframes like `filter()`, together with other functionalities like `lit()`"
   ]
  },
  {
   "cell_type": "code",
   "execution_count": 17,
   "metadata": {},
   "outputs": [
    {
     "name": "stdout",
     "output_type": "stream",
     "text": [
      "+---+--------+---+\n",
      "| id|    name|age|\n",
      "+---+--------+---+\n",
      "|  3|Isabella| 25|\n",
      "|  4|     Abe| 25|\n",
      "|  5|  Connor| 47|\n",
      "+---+--------+---+\n",
      "\n"
     ]
    }
   ],
   "source": [
    "peopleDf.filter(F.col(\"age\") > 24).show()"
   ]
  },
  {
   "cell_type": "code",
   "execution_count": 18,
   "metadata": {},
   "outputs": [
    {
     "name": "stdout",
     "output_type": "stream",
     "text": [
      "+---+------+---+\n",
      "| id|  name|age|\n",
      "+---+------+---+\n",
      "|  1|  John| 23|\n",
      "|  2| Maria| 23|\n",
      "|  6|Daniel| 19|\n",
      "+---+------+---+\n",
      "\n"
     ]
    }
   ],
   "source": [
    "peopleDf.filter(F.lit(24) >= F.col(\"age\")).show()"
   ]
  },
  {
   "cell_type": "markdown",
   "metadata": {},
   "source": [
    "Another interesting function is `explode`, which is useful to decompose columns made of lists or map/dicitonaries."
   ]
  },
  {
   "cell_type": "code",
   "execution_count": 19,
   "metadata": {},
   "outputs": [
    {
     "name": "stdout",
     "output_type": "stream",
     "text": [
      "+---+---------+--------+\n",
      "|  a|  intList|mapField|\n",
      "+---+---------+--------+\n",
      "|  1|[1, 2, 3]|[a -> b]|\n",
      "+---+---------+--------+\n",
      "\n"
     ]
    },
    {
     "data": {
      "text/plain": [
       "schema = StructType(StructField(a,IntegerType,true), StructField(intList,ArrayType(IntegerType,true),true), StructField(mapField,MapType(StringType,StringType,true),true))\n",
       "eDF_rdd = ParallelCollectionRDD[31] at parallelize at <console>:37\n",
       "eDF = [a: int, intList: array<int> ... 1 more field]\n"
      ]
     },
     "metadata": {},
     "output_type": "display_data"
    },
    {
     "data": {
      "text/plain": [
       "[a: int, intList: array<int> ... 1 more field]"
      ]
     },
     "execution_count": 19,
     "metadata": {},
     "output_type": "execute_result"
    }
   ],
   "source": [
    "val schema = new StructType(Array(StructField(\"a\", IntegerType, true),\n",
    "                                  StructField(\"intList\", ArrayType(IntegerType), true),\n",
    "                                  StructField(\"mapField\", MapType(StringType, StringType), true)))\n",
    "\n",
    "val eDF_rdd = sc.parallelize(Array(Row(1, Array(1,2,3), Map(\"a\" -> \"b\"))))\n",
    "\n",
    "val eDF = spark.createDataFrame(eDF_rdd, schema)\n",
    "eDF.show()"
   ]
  },
  {
   "cell_type": "code",
   "execution_count": 20,
   "metadata": {},
   "outputs": [
    {
     "name": "stdout",
     "output_type": "stream",
     "text": [
      "+---+---------+--------+-----+\n",
      "|  a|  intList|mapField|anInt|\n",
      "+---+---------+--------+-----+\n",
      "|  1|[1, 2, 3]|[a -> b]|    1|\n",
      "|  1|[1, 2, 3]|[a -> b]|    2|\n",
      "|  1|[1, 2, 3]|[a -> b]|    3|\n",
      "+---+---------+--------+-----+\n",
      "\n"
     ]
    }
   ],
   "source": [
    "eDF.withColumn(\"anInt\", F.explode(F.col(\"intList\"))).show()"
   ]
  },
  {
   "cell_type": "code",
   "execution_count": 21,
   "metadata": {},
   "outputs": [
    {
     "name": "stdout",
     "output_type": "stream",
     "text": [
      "+---+---+-----+\n",
      "|  a|key|value|\n",
      "+---+---+-----+\n",
      "|  1|  a|    b|\n",
      "+---+---+-----+\n",
      "\n"
     ]
    }
   ],
   "source": [
    "eDF.select(F.col(\"a\"), F.explode(F.col(\"mapField\"))).show()"
   ]
  },
  {
   "cell_type": "markdown",
   "metadata": {},
   "source": [
    "Another interesting option is to perform \"if/else\" conditons directly on a DataFarme through the following syntaxis:"
   ]
  },
  {
   "cell_type": "code",
   "execution_count": 22,
   "metadata": {},
   "outputs": [],
   "source": [
    "import org.apache.spark.sql.functions.when"
   ]
  },
  {
   "cell_type": "code",
   "execution_count": 23,
   "metadata": {},
   "outputs": [
    {
     "data": {
      "text/plain": [
       "peopleDfTag = [id: int, name: string ... 2 more fields]\n"
      ]
     },
     "metadata": {},
     "output_type": "display_data"
    },
    {
     "data": {
      "text/plain": [
       "[id: int, name: string ... 2 more fields]"
      ]
     },
     "execution_count": 23,
     "metadata": {},
     "output_type": "execute_result"
    }
   ],
   "source": [
    "val peopleDfTag = peopleDf.select(F.col(\"id\"), F.col(\"name\"), F.col(\"age\"),(when(F.col(\"age\") > 45, 2).when(F.col(\"age\") <= 20, 0).otherwise(1)).alias(\"encodedAge\"))"
   ]
  },
  {
   "cell_type": "code",
   "execution_count": 24,
   "metadata": {},
   "outputs": [
    {
     "name": "stdout",
     "output_type": "stream",
     "text": [
      "+---+--------+---+----------+\n",
      "| id|    name|age|encodedAge|\n",
      "+---+--------+---+----------+\n",
      "|  1|    John| 23|         1|\n",
      "|  2|   Maria| 23|         1|\n",
      "|  3|Isabella| 25|         1|\n",
      "|  4|     Abe| 25|         1|\n",
      "|  5|  Connor| 47|         2|\n",
      "|  6|  Daniel| 19|         0|\n",
      "+---+--------+---+----------+\n",
      "\n"
     ]
    }
   ],
   "source": [
    "peopleDfTag.show()"
   ]
  },
  {
   "cell_type": "markdown",
   "metadata": {},
   "source": [
    "Other important set of functionalities are aggregations, which used together the `groupBy` command and one aggretation function: `aproxCountDistinct`, `avg`, `count`, `countDistinct`, `first`, `last`, `stddev`, `stddev_pop`, `sum`, `sumDistinct`."
   ]
  },
  {
   "cell_type": "code",
   "execution_count": 25,
   "metadata": {},
   "outputs": [
    {
     "name": "stdout",
     "output_type": "stream",
     "text": [
      "+----------+--------+\n",
      "|encodedAge|avg(age)|\n",
      "+----------+--------+\n",
      "|         1|    24.0|\n",
      "|         2|    47.0|\n",
      "|         0|    19.0|\n",
      "+----------+--------+\n",
      "\n"
     ]
    }
   ],
   "source": [
    "peopleDfTag.groupBy(F.col(\"encodedAge\")).agg(F.avg(F.col(\"age\"))).show()"
   ]
  },
  {
   "cell_type": "code",
   "execution_count": 26,
   "metadata": {},
   "outputs": [
    {
     "name": "stdout",
     "output_type": "stream",
     "text": [
      "+----------+----------+\n",
      "|encodedAge|count(age)|\n",
      "+----------+----------+\n",
      "|         1|         4|\n",
      "|         2|         1|\n",
      "|         0|         1|\n",
      "+----------+----------+\n",
      "\n"
     ]
    }
   ],
   "source": [
    "peopleDfTag.groupBy(F.col(\"encodedAge\")).agg(F.count(F.col(\"age\"))).show()"
   ]
  },
  {
   "cell_type": "code",
   "execution_count": 27,
   "metadata": {},
   "outputs": [
    {
     "name": "stdout",
     "output_type": "stream",
     "text": [
      "+----------+-------------------+\n",
      "|encodedAge|count(DISTINCT age)|\n",
      "+----------+-------------------+\n",
      "|         1|                  2|\n",
      "|         2|                  1|\n",
      "|         0|                  1|\n",
      "+----------+-------------------+\n",
      "\n"
     ]
    }
   ],
   "source": [
    "peopleDfTag.groupBy(F.col(\"encodedAge\")).agg(F.countDistinct(F.col(\"age\"))).show()"
   ]
  },
  {
   "cell_type": "markdown",
   "metadata": {},
   "source": [
    "`Window` functions allow to calculate individual values for each register in a column based on some aggregate condition. Here we are going to calculate, for each person of the table `people_df_tag`, de difference between their age and the average of the age of its age group (indicated by the field `encodedAge`)."
   ]
  },
  {
   "cell_type": "code",
   "execution_count": 28,
   "metadata": {},
   "outputs": [],
   "source": [
    "import org.apache.spark.sql.expressions.Window"
   ]
  },
  {
   "cell_type": "code",
   "execution_count": 29,
   "metadata": {},
   "outputs": [
    {
     "data": {
      "text/plain": [
       "windowSpec = org.apache.spark.sql.expressions.WindowSpec@256ab7b\n"
      ]
     },
     "metadata": {},
     "output_type": "display_data"
    },
    {
     "data": {
      "text/plain": [
       "org.apache.spark.sql.expressions.WindowSpec@256ab7b"
      ]
     },
     "execution_count": 29,
     "metadata": {},
     "output_type": "execute_result"
    }
   ],
   "source": [
    "val windowSpec = Window.partitionBy(peopleDfTag(\"encodedAge\"))"
   ]
  },
  {
   "cell_type": "code",
   "execution_count": 30,
   "metadata": {},
   "outputs": [
    {
     "data": {
      "text/plain": [
       "colAvgAgeDif = (avg(age) OVER (PARTITION BY encodedAge unspecifiedframe$()) - age)\n"
      ]
     },
     "metadata": {},
     "output_type": "display_data"
    },
    {
     "data": {
      "text/plain": [
       "(avg(age) OVER (PARTITION BY encodedAge unspecifiedframe$()) - age)"
      ]
     },
     "execution_count": 30,
     "metadata": {},
     "output_type": "execute_result"
    }
   ],
   "source": [
    "val colAvgAgeDif = F.avg(peopleDfTag(\"age\")).over(windowSpec) - peopleDfTag(\"age\")"
   ]
  },
  {
   "cell_type": "code",
   "execution_count": 31,
   "metadata": {},
   "outputs": [
    {
     "name": "stdout",
     "output_type": "stream",
     "text": [
      "+---+--------+---+----------+-------------+\n",
      "| id|    name|age|encodedage|ageDifinGroup|\n",
      "+---+--------+---+----------+-------------+\n",
      "|  1|    John| 23|         1|          1.0|\n",
      "|  2|   Maria| 23|         1|          1.0|\n",
      "|  3|Isabella| 25|         1|         -1.0|\n",
      "|  4|     Abe| 25|         1|         -1.0|\n",
      "|  5|  Connor| 47|         2|          0.0|\n",
      "|  6|  Daniel| 19|         0|          0.0|\n",
      "+---+--------+---+----------+-------------+\n",
      "\n"
     ]
    }
   ],
   "source": [
    "peopleDfTag.select(F.col(\"id\"), F.col(\"name\"), \n",
    "                   F.col(\"age\"), F.col(\"encodedage\"),\n",
    "                  colAvgAgeDif.alias(\"ageDifinGroup\")).show()"
   ]
  },
  {
   "cell_type": "markdown",
   "metadata": {},
   "source": [
    "Finally, another important functionality is orderBy()"
   ]
  },
  {
   "cell_type": "code",
   "execution_count": 32,
   "metadata": {},
   "outputs": [
    {
     "name": "stdout",
     "output_type": "stream",
     "text": [
      "+---+--------+---+----------+\n",
      "| id|    name|age|encodedAge|\n",
      "+---+--------+---+----------+\n",
      "|  6|  Daniel| 19|         0|\n",
      "|  2|   Maria| 23|         1|\n",
      "|  1|    John| 23|         1|\n",
      "|  4|     Abe| 25|         1|\n",
      "|  3|Isabella| 25|         1|\n",
      "|  5|  Connor| 47|         2|\n",
      "+---+--------+---+----------+\n",
      "\n"
     ]
    }
   ],
   "source": [
    "peopleDfTag.orderBy(F.col(\"age\")).show()"
   ]
  },
  {
   "cell_type": "markdown",
   "metadata": {},
   "source": [
    "#### Multi-DataFrame Transformations: Set-Like operations\n",
    "\n",
    "Another important group of transformations are the \"set-like\" operations, that works over two different dataframes. We can highlight the following set-like operations: `unionAll`, `intersect`, `except`, `distinct`."
   ]
  },
  {
   "cell_type": "code",
   "execution_count": 33,
   "metadata": {},
   "outputs": [
    {
     "data": {
      "text/plain": [
       "peopleSchema = StructType(StructField(id,IntegerType,true), StructField(name,StringType,true), StructField(age,IntegerType,true), StructField(encodedAge,IntegerType,true))\n",
       "peopleData = MapPartitionsRDD[90] at map at <console>:46\n",
       "peopleDfTag2 = [id: int, name: string ... 2 more fields]\n"
      ]
     },
     "metadata": {},
     "output_type": "display_data"
    },
    {
     "data": {
      "text/plain": [
       "[id: int, name: string ... 2 more fields]"
      ]
     },
     "execution_count": 33,
     "metadata": {},
     "output_type": "execute_result"
    }
   ],
   "source": [
    "val peopleSchema = new StructType(Array(StructField(\"id\", IntegerType, true),\n",
    "                                        StructField(\"name\", StringType, true),\n",
    "                                        StructField(\"age\", IntegerType, true),\n",
    "                                        StructField(\"encodedAge\", IntegerType, true)))\n",
    "\n",
    "\n",
    "val peopleData = sc.parallelize(Array((5, \"Connor\", 47, 2), \n",
    "                                      (6, \"Daniel\", 19, 0))).map(x => Row.fromTuple(x))\n",
    "\n",
    "val peopleDfTag2 = spark.createDataFrame(peopleData, peopleSchema)                                   "
   ]
  },
  {
   "cell_type": "markdown",
   "metadata": {},
   "source": [
    "`unioinAll()` --> to concatenate two dataframes"
   ]
  },
  {
   "cell_type": "code",
   "execution_count": 34,
   "metadata": {},
   "outputs": [
    {
     "data": {
      "text/plain": [
       "peopleDfTagUnion = [id: int, name: string ... 2 more fields]\n"
      ]
     },
     "metadata": {},
     "output_type": "display_data"
    },
    {
     "data": {
      "text/plain": [
       "warning: there was one deprecation warning; re-run with -deprecation for details\n"
      ]
     },
     "metadata": {},
     "output_type": "display_data"
    },
    {
     "data": {
      "text/plain": [
       "[id: int, name: string ... 2 more fields]"
      ]
     },
     "execution_count": 34,
     "metadata": {},
     "output_type": "execute_result"
    }
   ],
   "source": [
    "val peopleDfTagUnion = peopleDfTag.unionAll(peopleDfTag2)"
   ]
  },
  {
   "cell_type": "code",
   "execution_count": 35,
   "metadata": {},
   "outputs": [
    {
     "name": "stdout",
     "output_type": "stream",
     "text": [
      "+---+--------+---+----------+\n",
      "| id|    name|age|encodedAge|\n",
      "+---+--------+---+----------+\n",
      "|  1|    John| 23|         1|\n",
      "|  2|   Maria| 23|         1|\n",
      "|  3|Isabella| 25|         1|\n",
      "|  4|     Abe| 25|         1|\n",
      "|  5|  Connor| 47|         2|\n",
      "|  6|  Daniel| 19|         0|\n",
      "|  5|  Connor| 47|         2|\n",
      "|  6|  Daniel| 19|         0|\n",
      "+---+--------+---+----------+\n",
      "\n"
     ]
    }
   ],
   "source": [
    "peopleDfTagUnion.show()"
   ]
  },
  {
   "cell_type": "markdown",
   "metadata": {},
   "source": [
    "`intersect()` --> to get the intersection between two DataFrames:"
   ]
  },
  {
   "cell_type": "code",
   "execution_count": 36,
   "metadata": {},
   "outputs": [
    {
     "name": "stdout",
     "output_type": "stream",
     "text": [
      "+---+------+---+----------+\n",
      "| id|  name|age|encodedAge|\n",
      "+---+------+---+----------+\n",
      "|  6|Daniel| 19|         0|\n",
      "|  5|Connor| 47|         2|\n",
      "+---+------+---+----------+\n",
      "\n"
     ]
    }
   ],
   "source": [
    "peopleDfTag.intersect(peopleDfTag2).show()"
   ]
  },
  {
   "cell_type": "markdown",
   "metadata": {},
   "source": [
    "`except()` --> to remove from one DataFrame the elements from other DataFrame"
   ]
  },
  {
   "cell_type": "code",
   "execution_count": 37,
   "metadata": {},
   "outputs": [
    {
     "name": "stdout",
     "output_type": "stream",
     "text": [
      "+---+--------+---+----------+\n",
      "| id|    name|age|encodedAge|\n",
      "+---+--------+---+----------+\n",
      "|  4|     Abe| 25|         1|\n",
      "|  1|    John| 23|         1|\n",
      "|  2|   Maria| 23|         1|\n",
      "|  3|Isabella| 25|         1|\n",
      "+---+--------+---+----------+\n",
      "\n"
     ]
    }
   ],
   "source": [
    "peopleDfTag.except(peopleDfTag2).show()"
   ]
  },
  {
   "cell_type": "markdown",
   "metadata": {},
   "source": [
    "`distict()` --> to get the distinct elements from one DataFrame"
   ]
  },
  {
   "cell_type": "code",
   "execution_count": 38,
   "metadata": {},
   "outputs": [
    {
     "name": "stdout",
     "output_type": "stream",
     "text": [
      "+---+--------+---+----------+\n",
      "| id|    name|age|encodedAge|\n",
      "+---+--------+---+----------+\n",
      "|  4|     Abe| 25|         1|\n",
      "|  6|  Daniel| 19|         0|\n",
      "|  1|    John| 23|         1|\n",
      "|  2|   Maria| 23|         1|\n",
      "|  5|  Connor| 47|         2|\n",
      "|  3|Isabella| 25|         1|\n",
      "+---+--------+---+----------+\n",
      "\n"
     ]
    }
   ],
   "source": [
    "peopleDfTagUnion.distinct().show()"
   ]
  },
  {
   "cell_type": "markdown",
   "metadata": {},
   "source": [
    "### Plain Old SQL Queries\n",
    "\n",
    "It is possible to perform SQL queries using the old plain format instead of the new SQL API. Here we can se one example of how to do it:"
   ]
  },
  {
   "cell_type": "code",
   "execution_count": 39,
   "metadata": {},
   "outputs": [
    {
     "data": {
      "text/plain": [
       "warning: there was one deprecation warning; re-run with -deprecation for details\n"
      ]
     },
     "metadata": {},
     "output_type": "display_data"
    }
   ],
   "source": [
    "peopleDfTag.registerTempTable(\"people\")"
   ]
  },
  {
   "cell_type": "code",
   "execution_count": 40,
   "metadata": {},
   "outputs": [
    {
     "name": "stdout",
     "output_type": "stream",
     "text": [
      "+---+--------+---+----------+\n",
      "| id|    name|age|encodedAge|\n",
      "+---+--------+---+----------+\n",
      "|  1|    John| 23|         1|\n",
      "|  2|   Maria| 23|         1|\n",
      "|  3|Isabella| 25|         1|\n",
      "|  4|     Abe| 25|         1|\n",
      "|  5|  Connor| 47|         2|\n",
      "+---+--------+---+----------+\n",
      "\n"
     ]
    }
   ],
   "source": [
    "spark.sql(\"SELECT * FROM people WHERE age > 20\").show()"
   ]
  },
  {
   "cell_type": "markdown",
   "metadata": {},
   "source": [
    "## Data Loading and Saving Functions\n",
    "\n",
    "In this section, we will explore how to load and save data in three different formats:\n",
    "\n",
    "    * Parquet\n",
    "    * CSV\n",
    "    * Json"
   ]
  },
  {
   "cell_type": "markdown",
   "metadata": {},
   "source": [
    "### Parquet Format"
   ]
  },
  {
   "cell_type": "markdown",
   "metadata": {},
   "source": [
    "Loading data"
   ]
  },
  {
   "cell_type": "code",
   "execution_count": 41,
   "metadata": {},
   "outputs": [
    {
     "data": {
      "text/plain": [
       "parquetData = [Name: string, Age: int]\n"
      ]
     },
     "metadata": {},
     "output_type": "display_data"
    },
    {
     "data": {
      "text/plain": [
       "[Name: string, Age: int]"
      ]
     },
     "execution_count": 41,
     "metadata": {},
     "output_type": "execute_result"
    }
   ],
   "source": [
    "val parquetData = spark.read.parquet(\"../data/person.parquet\")"
   ]
  },
  {
   "cell_type": "code",
   "execution_count": 42,
   "metadata": {},
   "outputs": [
    {
     "name": "stdout",
     "output_type": "stream",
     "text": [
      "+----+---+\n",
      "|Name|Age|\n",
      "+----+---+\n",
      "|Raul| 29|\n",
      "|Javi| 34|\n",
      "+----+---+\n",
      "\n"
     ]
    }
   ],
   "source": [
    "parquetData.show()"
   ]
  },
  {
   "cell_type": "markdown",
   "metadata": {},
   "source": [
    "Saving data"
   ]
  },
  {
   "cell_type": "code",
   "execution_count": 43,
   "metadata": {},
   "outputs": [],
   "source": [
    "parquetData.write.mode(\"overwrite\").parquet(\"../data/person_write.parquet\")"
   ]
  },
  {
   "cell_type": "code",
   "execution_count": 44,
   "metadata": {},
   "outputs": [
    {
     "name": "stdout",
     "output_type": "stream",
     "text": [
      "+----+---+\n",
      "|Name|Age|\n",
      "+----+---+\n",
      "|Raul| 29|\n",
      "|Javi| 34|\n",
      "+----+---+\n",
      "\n"
     ]
    }
   ],
   "source": [
    "spark.read.parquet(\"../data/person_write.parquet\").show()"
   ]
  },
  {
   "cell_type": "markdown",
   "metadata": {},
   "source": [
    "### CSV Format"
   ]
  },
  {
   "cell_type": "markdown",
   "metadata": {},
   "source": [
    "Loading data"
   ]
  },
  {
   "cell_type": "code",
   "execution_count": 45,
   "metadata": {},
   "outputs": [
    {
     "data": {
      "text/plain": [
       "csvData = [Name: string, Age: int]\n"
      ]
     },
     "metadata": {},
     "output_type": "display_data"
    },
    {
     "data": {
      "text/plain": [
       "[Name: string, Age: int]"
      ]
     },
     "execution_count": 45,
     "metadata": {},
     "output_type": "execute_result"
    }
   ],
   "source": [
    "val csvData = spark.read.option(\"header\", \"true\").option(\"inferschema\", \"true\").csv(\"../data/person.csv\")"
   ]
  },
  {
   "cell_type": "code",
   "execution_count": 46,
   "metadata": {
    "scrolled": true
   },
   "outputs": [
    {
     "name": "stdout",
     "output_type": "stream",
     "text": [
      "+----+---+\n",
      "|Name|Age|\n",
      "+----+---+\n",
      "|Raul| 29|\n",
      "|Javi| 34|\n",
      "+----+---+\n",
      "\n"
     ]
    }
   ],
   "source": [
    "csvData.show()"
   ]
  },
  {
   "cell_type": "code",
   "execution_count": 47,
   "metadata": {},
   "outputs": [
    {
     "data": {
      "text/plain": [
       "schema = StructType(StructField(Name,StringType,true), StructField(Age,IntegerType,true))\n"
      ]
     },
     "metadata": {},
     "output_type": "display_data"
    },
    {
     "data": {
      "text/plain": [
       "StructType(StructField(Name,StringType,true), StructField(Age,IntegerType,true))"
      ]
     },
     "execution_count": 47,
     "metadata": {},
     "output_type": "execute_result"
    }
   ],
   "source": [
    "import org.apache.spark.sql.types.{StructType, StructField, StringType, IntegerType}\n",
    "val schema = new StructType(Array(StructField(\"Name\", StringType, true), \n",
    "                                  StructField(\"Age\", IntegerType, true)))"
   ]
  },
  {
   "cell_type": "code",
   "execution_count": 48,
   "metadata": {},
   "outputs": [
    {
     "data": {
      "text/plain": [
       "csvDataSchema = [Name: string, Age: int]\n"
      ]
     },
     "metadata": {},
     "output_type": "display_data"
    },
    {
     "data": {
      "text/plain": [
       "[Name: string, Age: int]"
      ]
     },
     "execution_count": 48,
     "metadata": {},
     "output_type": "execute_result"
    }
   ],
   "source": [
    "val csvDataSchema = spark.read.schema(schema).csv(\"../data/person.csv\")"
   ]
  },
  {
   "cell_type": "code",
   "execution_count": 49,
   "metadata": {},
   "outputs": [
    {
     "name": "stdout",
     "output_type": "stream",
     "text": [
      "+----+----+\n",
      "|Name| Age|\n",
      "+----+----+\n",
      "|null|null|\n",
      "|Raul|  29|\n",
      "|Javi|  34|\n",
      "+----+----+\n",
      "\n"
     ]
    }
   ],
   "source": [
    "csvDataSchema.show()"
   ]
  },
  {
   "cell_type": "markdown",
   "metadata": {},
   "source": [
    "Saving data:"
   ]
  },
  {
   "cell_type": "code",
   "execution_count": 50,
   "metadata": {},
   "outputs": [],
   "source": [
    "csvData.write.mode(\"overwrite\").option(\"header\", \"true\").csv(\"../data/person_write.csv\")"
   ]
  },
  {
   "cell_type": "code",
   "execution_count": 51,
   "metadata": {},
   "outputs": [
    {
     "name": "stdout",
     "output_type": "stream",
     "text": [
      "+----+---+\n",
      "|Name|Age|\n",
      "+----+---+\n",
      "|Raul| 29|\n",
      "|Javi| 34|\n",
      "+----+---+\n",
      "\n"
     ]
    }
   ],
   "source": [
    "spark.read.option(\"inferSchema\", \"true\").option(\"header\", \"true\").csv(\"../data/person_write.csv\").show()"
   ]
  },
  {
   "cell_type": "markdown",
   "metadata": {},
   "source": [
    "### JSON Format"
   ]
  },
  {
   "cell_type": "markdown",
   "metadata": {},
   "source": [
    "Loading data"
   ]
  },
  {
   "cell_type": "code",
   "execution_count": 52,
   "metadata": {},
   "outputs": [
    {
     "data": {
      "text/plain": [
       "jsonData = [age: bigint, name: string]\n"
      ]
     },
     "metadata": {},
     "output_type": "display_data"
    },
    {
     "data": {
      "text/plain": [
       "[age: bigint, name: string]"
      ]
     },
     "execution_count": 52,
     "metadata": {},
     "output_type": "execute_result"
    }
   ],
   "source": [
    "val jsonData = spark.read.json(\"../data/person.json\")"
   ]
  },
  {
   "cell_type": "code",
   "execution_count": 53,
   "metadata": {},
   "outputs": [
    {
     "name": "stdout",
     "output_type": "stream",
     "text": [
      "+---+----+\n",
      "|age|name|\n",
      "+---+----+\n",
      "| 29|Raul|\n",
      "| 33|Javi|\n",
      "+---+----+\n",
      "\n"
     ]
    }
   ],
   "source": [
    "jsonData.show()"
   ]
  },
  {
   "cell_type": "markdown",
   "metadata": {},
   "source": [
    "Saving data"
   ]
  },
  {
   "cell_type": "code",
   "execution_count": 54,
   "metadata": {},
   "outputs": [],
   "source": [
    "jsonData.write.mode(\"overwrite\").json(\"../data/person_write.json\")"
   ]
  },
  {
   "cell_type": "code",
   "execution_count": 55,
   "metadata": {},
   "outputs": [
    {
     "name": "stdout",
     "output_type": "stream",
     "text": [
      "+---+----+\n",
      "|age|name|\n",
      "+---+----+\n",
      "| 29|Raul|\n",
      "| 33|Javi|\n",
      "+---+----+\n",
      "\n"
     ]
    }
   ],
   "source": [
    "spark.read.json(\"../data/person_write.json\").show()"
   ]
  },
  {
   "cell_type": "markdown",
   "metadata": {},
   "source": [
    "## Datasets\n",
    "\n",
    "Now, we will explore the `Datasets`, and how to operate with them."
   ]
  },
  {
   "cell_type": "code",
   "execution_count": 56,
   "metadata": {},
   "outputs": [
    {
     "data": {
      "text/plain": [
       "defined class Person\n"
      ]
     },
     "metadata": {},
     "output_type": "display_data"
    }
   ],
   "source": [
    "case class Person(id: Integer, Name: String, Age: Integer)"
   ]
  },
  {
   "cell_type": "code",
   "execution_count": 57,
   "metadata": {},
   "outputs": [
    {
     "data": {
      "text/plain": [
       "dataCaseClasses = ParallelCollectionRDD[213] at parallelize at <console>:40\n",
       "peopleDs = [id: int, Name: string ... 1 more field]\n"
      ]
     },
     "metadata": {},
     "output_type": "display_data"
    },
    {
     "data": {
      "text/plain": [
       "[id: int, Name: string ... 1 more field]"
      ]
     },
     "execution_count": 57,
     "metadata": {},
     "output_type": "execute_result"
    }
   ],
   "source": [
    "val dataCaseClasses = sc.parallelize(Array(Person(1,\"John\", 23), Person(2,\"Maria\", 23),\n",
    "                                           Person(3,\"Isabella\", 25), Person(4,\"Abe\", 25),\n",
    "                                           Person(5,\"Connor\", 47), Person(6,\"Daniel\", 19)))\n",
    "val peopleDs = spark.createDataset(dataCaseClasses)"
   ]
  },
  {
   "cell_type": "code",
   "execution_count": 58,
   "metadata": {},
   "outputs": [
    {
     "name": "stdout",
     "output_type": "stream",
     "text": [
      "+---+--------+---+\n",
      "| id|    Name|Age|\n",
      "+---+--------+---+\n",
      "|  1|    John| 23|\n",
      "|  2|   Maria| 23|\n",
      "|  3|Isabella| 25|\n",
      "|  4|     Abe| 25|\n",
      "|  5|  Connor| 47|\n",
      "|  6|  Daniel| 19|\n",
      "+---+--------+---+\n",
      "\n"
     ]
    }
   ],
   "source": [
    "peopleDs.show()"
   ]
  },
  {
   "cell_type": "markdown",
   "metadata": {},
   "source": [
    "We can create easily `DataFrames` and `RDD` from datasets."
   ]
  },
  {
   "cell_type": "code",
   "execution_count": 59,
   "metadata": {},
   "outputs": [
    {
     "data": {
      "text/plain": [
       "peopleDf = [id: int, Name: string ... 1 more field]\n"
      ]
     },
     "metadata": {},
     "output_type": "display_data"
    },
    {
     "data": {
      "text/plain": [
       "[id: int, Name: string ... 1 more field]"
      ]
     },
     "execution_count": 59,
     "metadata": {},
     "output_type": "execute_result"
    }
   ],
   "source": [
    "val peopleDf = peopleDs.toDF()"
   ]
  },
  {
   "cell_type": "code",
   "execution_count": 60,
   "metadata": {},
   "outputs": [
    {
     "name": "stdout",
     "output_type": "stream",
     "text": [
      "+---+--------+---+\n",
      "| id|    Name|Age|\n",
      "+---+--------+---+\n",
      "|  1|    John| 23|\n",
      "|  2|   Maria| 23|\n",
      "|  3|Isabella| 25|\n",
      "|  4|     Abe| 25|\n",
      "|  5|  Connor| 47|\n",
      "|  6|  Daniel| 19|\n",
      "+---+--------+---+\n",
      "\n"
     ]
    }
   ],
   "source": [
    "peopleDf.show()"
   ]
  },
  {
   "cell_type": "code",
   "execution_count": 61,
   "metadata": {},
   "outputs": [
    {
     "data": {
      "text/plain": [
       "peopleRDD = MapPartitionsRDD[223] at rdd at <console>:41\n"
      ]
     },
     "metadata": {},
     "output_type": "display_data"
    },
    {
     "data": {
      "text/plain": [
       "MapPartitionsRDD[223] at rdd at <console>:41"
      ]
     },
     "execution_count": 61,
     "metadata": {},
     "output_type": "execute_result"
    }
   ],
   "source": [
    "val peopleRDD = peopleDs.rdd"
   ]
  },
  {
   "cell_type": "code",
   "execution_count": 62,
   "metadata": {},
   "outputs": [
    {
     "data": {
      "text/plain": [
       "[Person(1,John,23), Person(2,Maria,23), Person(3,Isabella,25), Person(4,Abe,25), Person(5,Connor,47), Person(6,Daniel,19)]"
      ]
     },
     "execution_count": 62,
     "metadata": {},
     "output_type": "execute_result"
    }
   ],
   "source": [
    "peopleRDD.collect()"
   ]
  },
  {
   "cell_type": "markdown",
   "metadata": {},
   "source": [
    "We can operate with dataset taking advantage of their compile-time strong typing and their flexibility."
   ]
  },
  {
   "cell_type": "code",
   "execution_count": 63,
   "metadata": {},
   "outputs": [
    {
     "data": {
      "text/plain": [
       "[23, 23, 25, 25, 47]"
      ]
     },
     "execution_count": 63,
     "metadata": {},
     "output_type": "execute_result"
    }
   ],
   "source": [
    "peopleDs.map(x => x.Age).filter(_>20).collect()"
   ]
  },
  {
   "cell_type": "code",
   "execution_count": 64,
   "metadata": {},
   "outputs": [
    {
     "data": {
      "text/plain": [
       "[(47,1), (19,1), (23,2), (25,2)]"
      ]
     },
     "execution_count": 64,
     "metadata": {},
     "output_type": "execute_result"
    }
   ],
   "source": [
    "peopleDs.groupByKey(x => x.Age).count().collect()"
   ]
  },
  {
   "cell_type": "markdown",
   "metadata": {},
   "source": [
    "## Extending with User-Defined Functions (UDFs) and Aggregate Functions (UDAFs)\n",
    "\n",
    "### UDFs\n",
    "\n",
    "Using an UDFs, we are going to repeat the process where we obtained a new column with a categorical value for the age."
   ]
  },
  {
   "cell_type": "code",
   "execution_count": 65,
   "metadata": {},
   "outputs": [
    {
     "name": "stdout",
     "output_type": "stream",
     "text": [
      "+---+--------+---+\n",
      "| id|    Name|Age|\n",
      "+---+--------+---+\n",
      "|  1|    John| 23|\n",
      "|  2|   Maria| 23|\n",
      "|  3|Isabella| 25|\n",
      "|  4|     Abe| 25|\n",
      "|  5|  Connor| 47|\n",
      "|  6|  Daniel| 19|\n",
      "+---+--------+---+\n",
      "\n"
     ]
    }
   ],
   "source": [
    "peopleDf.show()"
   ]
  },
  {
   "cell_type": "code",
   "execution_count": 66,
   "metadata": {},
   "outputs": [
    {
     "data": {
      "text/plain": [
       "catAgeUdf = UserDefinedFunction(<function1>,IntegerType,Some(List(IntegerType)))\n"
      ]
     },
     "metadata": {},
     "output_type": "display_data"
    },
    {
     "data": {
      "text/plain": [
       "UserDefinedFunction(<function1>,IntegerType,Some(List(IntegerType)))"
      ]
     },
     "execution_count": 66,
     "metadata": {},
     "output_type": "execute_result"
    }
   ],
   "source": [
    "val catAgeUdf = F.udf{\n",
    "    age: Int => {\n",
    "        if (age>45) 2\n",
    "        else if(age<=20) 0\n",
    "        else 1\n",
    "    }\n",
    "}"
   ]
  },
  {
   "cell_type": "code",
   "execution_count": 67,
   "metadata": {},
   "outputs": [
    {
     "data": {
      "text/plain": [
       "peopleDfUdf = [id: int, Name: string ... 2 more fields]\n"
      ]
     },
     "metadata": {},
     "output_type": "display_data"
    },
    {
     "data": {
      "text/plain": [
       "[id: int, Name: string ... 2 more fields]"
      ]
     },
     "execution_count": 67,
     "metadata": {},
     "output_type": "execute_result"
    }
   ],
   "source": [
    "val peopleDfUdf = peopleDf.withColumn(\"encodedAge\", catAgeUdf(F.col(\"Age\")))"
   ]
  },
  {
   "cell_type": "code",
   "execution_count": 68,
   "metadata": {},
   "outputs": [
    {
     "name": "stdout",
     "output_type": "stream",
     "text": [
      "+---+--------+---+----------+\n",
      "| id|    Name|Age|encodedAge|\n",
      "+---+--------+---+----------+\n",
      "|  1|    John| 23|         1|\n",
      "|  2|   Maria| 23|         1|\n",
      "|  3|Isabella| 25|         1|\n",
      "|  4|     Abe| 25|         1|\n",
      "|  5|  Connor| 47|         2|\n",
      "|  6|  Daniel| 19|         0|\n",
      "+---+--------+---+----------+\n",
      "\n"
     ]
    }
   ],
   "source": [
    "peopleDfUdf.show()"
   ]
  },
  {
   "cell_type": "markdown",
   "metadata": {},
   "source": [
    "### UDAFs"
   ]
  },
  {
   "cell_type": "code",
   "execution_count": 69,
   "metadata": {},
   "outputs": [
    {
     "data": {
      "text/plain": [
       "defined class GeometricMean\n"
      ]
     },
     "metadata": {},
     "output_type": "display_data"
    }
   ],
   "source": [
    "import org.apache.spark.sql.expressions.MutableAggregationBuffer\n",
    "import org.apache.spark.sql.expressions.UserDefinedAggregateFunction\n",
    "import org.apache.spark.sql.Row\n",
    "import org.apache.spark.sql.types._\n",
    "\n",
    "class GeometricMean extends UserDefinedAggregateFunction {\n",
    "  // This is the input fields for your aggregate function.\n",
    "  override def inputSchema: org.apache.spark.sql.types.StructType =\n",
    "    StructType(StructField(\"value\", DoubleType) :: Nil)\n",
    "\n",
    "  // This is the internal fields you keep for computing your aggregate.\n",
    "  override def bufferSchema: StructType = StructType(\n",
    "    StructField(\"count\", LongType) ::\n",
    "    StructField(\"product\", DoubleType) :: Nil\n",
    "  )\n",
    "\n",
    "  // This is the output type of your aggregatation function.\n",
    "  override def dataType: DataType = DoubleType\n",
    "\n",
    "  override def deterministic: Boolean = true\n",
    "\n",
    "  // This is the initial value for your buffer schema.\n",
    "  override def initialize(buffer: MutableAggregationBuffer): Unit = {\n",
    "    buffer(0) = 0L\n",
    "    buffer(1) = 1.0\n",
    "  }\n",
    "\n",
    "  // This is how to update your buffer schema given an input.\n",
    "  override def update(buffer: MutableAggregationBuffer, input: Row): Unit = {\n",
    "    buffer(0) = buffer.getAs[Long](0) + 1\n",
    "    buffer(1) = buffer.getAs[Double](1) * input.getAs[Double](0)\n",
    "  }\n",
    "\n",
    "  // This is how to merge two objects with the bufferSchema type.\n",
    "  override def merge(buffer1: MutableAggregationBuffer, buffer2: Row): Unit = {\n",
    "    buffer1(0) = buffer1.getAs[Long](0) + buffer2.getAs[Long](0)\n",
    "    buffer1(1) = buffer1.getAs[Double](1) * buffer2.getAs[Double](1)\n",
    "  }\n",
    "\n",
    "  // This is where you output the final value, given the final value of your bufferSchema.\n",
    "  override def evaluate(buffer: Row): Any = {\n",
    "    math.pow(buffer.getDouble(1), 1.toDouble / buffer.getLong(0))\n",
    "  }\n",
    "}"
   ]
  },
  {
   "cell_type": "code",
   "execution_count": 70,
   "metadata": {},
   "outputs": [
    {
     "data": {
      "text/plain": [
       "ids = [id: bigint]\n",
       "df = [id: bigint, group_id: bigint]\n"
      ]
     },
     "metadata": {},
     "output_type": "display_data"
    },
    {
     "data": {
      "text/plain": [
       "warning: there was one deprecation warning; re-run with -deprecation for details\n"
      ]
     },
     "metadata": {},
     "output_type": "display_data"
    },
    {
     "data": {
      "text/plain": [
       "[id: bigint, group_id: bigint]"
      ]
     },
     "execution_count": 70,
     "metadata": {},
     "output_type": "execute_result"
    }
   ],
   "source": [
    "val ids = spark.range(1, 20)\n",
    "ids.registerTempTable(\"ids\")\n",
    "val df = spark.sql(\"select id, id % 3 as group_id from ids\")"
   ]
  },
  {
   "cell_type": "code",
   "execution_count": 71,
   "metadata": {},
   "outputs": [
    {
     "name": "stdout",
     "output_type": "stream",
     "text": [
      "+---+--------+\n",
      "| id|group_id|\n",
      "+---+--------+\n",
      "|  1|       1|\n",
      "|  2|       2|\n",
      "|  3|       0|\n",
      "|  4|       1|\n",
      "|  5|       2|\n",
      "|  6|       0|\n",
      "|  7|       1|\n",
      "|  8|       2|\n",
      "|  9|       0|\n",
      "| 10|       1|\n",
      "| 11|       2|\n",
      "| 12|       0|\n",
      "| 13|       1|\n",
      "| 14|       2|\n",
      "| 15|       0|\n",
      "| 16|       1|\n",
      "| 17|       2|\n",
      "| 18|       0|\n",
      "| 19|       1|\n",
      "+---+--------+\n",
      "\n"
     ]
    }
   ],
   "source": [
    "df.show()"
   ]
  },
  {
   "cell_type": "code",
   "execution_count": 72,
   "metadata": {},
   "outputs": [
    {
     "name": "stdout",
     "output_type": "stream",
     "text": [
      "+--------+-----------------+\n",
      "|group_id|    GeometricMean|\n",
      "+--------+-----------------+\n",
      "|       0|8.981385496571725|\n",
      "|       1|7.301716979342118|\n",
      "|       2|7.706253151292568|\n",
      "+--------+-----------------+\n",
      "\n"
     ]
    },
    {
     "data": {
      "text/plain": [
       "gm = GeometricMean@5e9af865\n"
      ]
     },
     "metadata": {},
     "output_type": "display_data"
    },
    {
     "data": {
      "text/plain": [
       "$line149.$read$$iw$$iw$GeometricMean@5e9af865"
      ]
     },
     "execution_count": 72,
     "metadata": {},
     "output_type": "execute_result"
    }
   ],
   "source": [
    "// Create an instance of UDAF GeometricMean.\n",
    "val gm = new GeometricMean\n",
    "\n",
    "// Show the geometric mean of values of column \"id\".\n",
    "df.groupBy(\"group_id\").agg(gm(F.col(\"id\")).as(\"GeometricMean\")).show()"
   ]
  },
  {
   "cell_type": "code",
   "execution_count": null,
   "metadata": {},
   "outputs": [],
   "source": []
  }
 ],
 "metadata": {
  "kernelspec": {
   "display_name": "Apache Toree - Scala",
   "language": "scala",
   "name": "apache_toree_scala"
  },
  "language_info": {
   "codemirror_mode": "text/x-scala",
   "file_extension": ".scala",
   "mimetype": "text/x-scala",
   "name": "scala",
   "pygments_lexer": "scala",
   "version": "2.11.8"
  }
 },
 "nbformat": 4,
 "nbformat_minor": 2
}
